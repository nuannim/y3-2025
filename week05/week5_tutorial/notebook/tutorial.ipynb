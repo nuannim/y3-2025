{
 "cells": [
  {
   "cell_type": "code",
   "execution_count": 1,
   "id": "ec7ab617",
   "metadata": {},
   "outputs": [],
   "source": [
    "import os\n",
    "os.environ[\"DJANGO_ALLOW_ASYNC_UNSAFE\"] = \"true\""
   ]
  },
  {
   "cell_type": "code",
   "execution_count": 2,
   "id": "b13ae911",
   "metadata": {},
   "outputs": [
    {
     "data": {
      "text/plain": [
       "<Company: Company CCC>"
      ]
     },
     "execution_count": 2,
     "metadata": {},
     "output_type": "execute_result"
    }
   ],
   "source": [
    "from companies.models import Company\n",
    "Company.objects.create(name=\"Company AAA\", num_employees=120, num_chairs=150, num_tables=60)\n",
    "Company.objects.create(name=\"Company BBB\", num_employees=50, num_chairs=30, num_tables=20)\n",
    "Company.objects.create(name=\"Company CCC\", num_employees=100, num_chairs=40, num_tables=40)"
   ]
  },
  {
   "cell_type": "code",
   "execution_count": 29,
   "id": "de52398d",
   "metadata": {},
   "outputs": [],
   "source": [
    "from django.db.models import Count, F, Value, Avg, Min, Max\n",
    "from django.db.models.functions import Length, Upper, Concat\n",
    "from django.db.models.lookups import GreaterThan\n",
    "\n",
    "# อันนี้ลองเฉย ๆ อยากเห็นหน้าตา\n",
    "from django.forms.models import model_to_dict"
   ]
  },
  {
   "cell_type": "code",
   "execution_count": 5,
   "id": "87d1928f",
   "metadata": {},
   "outputs": [
    {
     "data": {
      "text/plain": [
       "<QuerySet [<Company: Company BBB>, <Company: Company CCC>]>"
      ]
     },
     "execution_count": 5,
     "metadata": {},
     "output_type": "execute_result"
    }
   ],
   "source": [
    "Company.objects.filter(num_employees__gt=F(\"num_chairs\"))"
   ]
  },
  {
   "cell_type": "code",
   "execution_count": 6,
   "id": "ea1c8b08",
   "metadata": {},
   "outputs": [
    {
     "data": {
      "text/plain": [
       "<QuerySet [<Company: Company CCC>]>"
      ]
     },
     "execution_count": 6,
     "metadata": {},
     "output_type": "execute_result"
    }
   ],
   "source": [
    "Company.objects.filter(num_employees__gt=F(\"num_chairs\") * 2)"
   ]
  },
  {
   "cell_type": "code",
   "execution_count": 7,
   "id": "ee64523b",
   "metadata": {},
   "outputs": [
    {
     "data": {
      "text/plain": [
       "<QuerySet [<Company: Company CCC>]>"
      ]
     },
     "execution_count": 7,
     "metadata": {},
     "output_type": "execute_result"
    }
   ],
   "source": [
    "Company.objects.filter(num_employees__gt=F(\"num_chairs\") + F(\"num_tables\"))"
   ]
  },
  {
   "cell_type": "code",
   "execution_count": 27,
   "id": "76aecb0e",
   "metadata": {},
   "outputs": [],
   "source": [
    "company = (\n",
    "    Company.objects.filter(num_employees__gt=F(\"num_chairs\"))\n",
    "    .annotate(chairs_needed=F(\"num_employees\") - F(\"num_chairs\"))\n",
    "    .first()\n",
    ")\n",
    "\n",
    "# annotate is create new field"
   ]
  },
  {
   "cell_type": "code",
   "execution_count": 9,
   "id": "e0224501",
   "metadata": {},
   "outputs": [
    {
     "data": {
      "text/plain": [
       "50"
      ]
     },
     "execution_count": 9,
     "metadata": {},
     "output_type": "execute_result"
    }
   ],
   "source": [
    "company.num_employees"
   ]
  },
  {
   "cell_type": "code",
   "execution_count": 10,
   "id": "58c04894",
   "metadata": {},
   "outputs": [
    {
     "data": {
      "text/plain": [
       "30"
      ]
     },
     "execution_count": 10,
     "metadata": {},
     "output_type": "execute_result"
    }
   ],
   "source": [
    "company.num_chairs"
   ]
  },
  {
   "cell_type": "code",
   "execution_count": 11,
   "id": "c846f3c9",
   "metadata": {},
   "outputs": [
    {
     "data": {
      "text/plain": [
       "20"
      ]
     },
     "execution_count": 11,
     "metadata": {},
     "output_type": "execute_result"
    }
   ],
   "source": [
    "company.chairs_needed"
   ]
  },
  {
   "cell_type": "code",
   "execution_count": 30,
   "id": "e35a052b",
   "metadata": {},
   "outputs": [
    {
     "name": "stdout",
     "output_type": "stream",
     "text": [
      "{'id': 2, 'name': 'Company BBB', 'ticker': 'BBB', 'num_employees': 50, 'num_tables': 20, 'num_chairs': 30}\n"
     ]
    }
   ],
   "source": [
    "# อันนี้ลองเฉย ๆ อยากเห็นหน้าตา\n",
    "\n",
    "# from django.forms.models import model_to_dict\n",
    "\n",
    "print(model_to_dict(company))\n"
   ]
  },
  {
   "cell_type": "code",
   "execution_count": 38,
   "id": "b02b5f83",
   "metadata": {},
   "outputs": [
    {
     "name": "stdout",
     "output_type": "stream",
     "text": [
      "Company AAA (AAA\\\\)\n",
      "Company BBB (BBB)\n",
      "Company CCC (CCC)\n"
     ]
    }
   ],
   "source": [
    "# import Concat ก่อนด้วย\n",
    "\n",
    "companies = Company.objects.annotate(\n",
    "    full_name = Concat(\"name\", Value(\" (\"), \"ticker\", Value(\")\"))\n",
    ")\n",
    "\n",
    "for com in companies:\n",
    "    print(com.full_name)"
   ]
  },
  {
   "cell_type": "code",
   "execution_count": 40,
   "id": "7577f7f8",
   "metadata": {},
   "outputs": [],
   "source": [
    "# comps = Company.objects.filter\n",
    "#     num_employees"
   ]
  },
  {
   "cell_type": "markdown",
   "id": "8f32c18e",
   "metadata": {},
   "source": [
    "# aggregate expression"
   ]
  },
  {
   "cell_type": "code",
   "execution_count": 5,
   "id": "60884da6",
   "metadata": {},
   "outputs": [
    {
     "data": {
      "text/plain": [
       "20"
      ]
     },
     "execution_count": 5,
     "metadata": {},
     "output_type": "execute_result"
    }
   ],
   "source": [
    "Book.objects.filter(publisher__name=\"Penguin Books\").count()"
   ]
  },
  {
   "cell_type": "code",
   "execution_count": 9,
   "id": "425ae859",
   "metadata": {},
   "outputs": [
    {
     "data": {
      "text/plain": [
       "{'price__avg': Decimal('9.7018644067796610')}"
      ]
     },
     "execution_count": 9,
     "metadata": {},
     "output_type": "execute_result"
    }
   ],
   "source": [
    "# aggregate avg\n",
    "Book.objects.aggregate(Avg(\"price\", default=0))"
   ]
  },
  {
   "cell_type": "code",
   "execution_count": 13,
   "id": "dd7fbd58",
   "metadata": {},
   "outputs": [
    {
     "data": {
      "text/plain": [
       "{'price__avg': Decimal('9.6150000000000000')}"
      ]
     },
     "execution_count": 13,
     "metadata": {},
     "output_type": "execute_result"
    }
   ],
   "source": [
    "# filter then aggregate then avg\n",
    "Book.objects.filter(publisher__name=\"Penguin Books\").aggregate(Avg(\"price\", default=0))"
   ]
  },
  {
   "cell_type": "code",
   "execution_count": 16,
   "id": "d61d9dda",
   "metadata": {},
   "outputs": [
    {
     "data": {
      "text/plain": [
       "{'price_avg': Decimal('9.7018644067796610'),\n",
       " 'price_min': Decimal('5.99'),\n",
       " 'price_max': Decimal('14.99')}"
      ]
     },
     "execution_count": 16,
     "metadata": {},
     "output_type": "execute_result"
    }
   ],
   "source": [
    "res = Book.objects.aggregate(\n",
    "    price_avg=Avg(\"price\", default=0),\n",
    "    price_min=Min(\"price\", default=0),\n",
    "    price_max=Max(\"price\", default=0)\n",
    ")\n",
    "\n",
    "res"
   ]
  },
  {
   "cell_type": "code",
   "execution_count": 21,
   "id": "0d1e51b7",
   "metadata": {},
   "outputs": [
    {
     "name": "stdout",
     "output_type": "stream",
     "text": [
      "PUB: Oxford University Press => BOOK NUM: 9.7464102564102564\n",
      "PUB: Penguin Books => BOOK NUM: 9.6150000000000000\n"
     ]
    }
   ],
   "source": [
    "# pubs = Publisher.objects.annotate(num_books=Count(\"book\"))\n",
    "# group by อะไร เขียน group.objects... Count \n",
    "\n",
    "pubs = Publisher.objects.annotate(avg_price_books=Avg(\"book__price\"))\n",
    "\n",
    "for pub in pubs:\n",
    "#     print(f\"PUB: {pub.name} => BOOK NUM: {pub.num_books}\")\n",
    "    print(f\"PUB: {pub.name} => BOOK NUM: {pub.avg_price_books}\")\n",
    "    "
   ]
  },
  {
   "cell_type": "markdown",
   "id": "dd56da0e",
   "metadata": {},
   "source": [
    "# filter"
   ]
  },
  {
   "cell_type": "code",
   "execution_count": 23,
   "id": "9069ff34",
   "metadata": {},
   "outputs": [],
   "source": [
    "from django.db.models import Q\n",
    "above = Publisher.objects.annotate(above_4=Count(\"book\", filter=Q(book__rating__gt=4)))\n",
    "below = Publisher.objects.annotate(below_4=Count(\"book\", filter=Q(book__rating__lte=4)))"
   ]
  },
  {
   "cell_type": "code",
   "execution_count": 24,
   "id": "09524653",
   "metadata": {},
   "outputs": [
    {
     "data": {
      "text/plain": [
       "16"
      ]
     },
     "execution_count": 24,
     "metadata": {},
     "output_type": "execute_result"
    }
   ],
   "source": [
    "above[0].above_4"
   ]
  },
  {
   "cell_type": "code",
   "execution_count": 25,
   "id": "b0190552",
   "metadata": {},
   "outputs": [
    {
     "data": {
      "text/plain": [
       "4"
      ]
     },
     "execution_count": 25,
     "metadata": {},
     "output_type": "execute_result"
    }
   ],
   "source": [
    "below[0].below_4"
   ]
  },
  {
   "cell_type": "code",
   "execution_count": 26,
   "id": "77de4129",
   "metadata": {},
   "outputs": [
    {
     "data": {
      "text/plain": [
       "39"
      ]
     },
     "execution_count": 26,
     "metadata": {},
     "output_type": "execute_result"
    }
   ],
   "source": [
    "pubs = Publisher.objects.annotate(num_books=Count(\"book\")).order_by(\"-num_books\")[:5]\n",
    "pubs[0].num_books"
   ]
  }
 ],
 "metadata": {
  "kernelspec": {
   "display_name": "Django Shell-Plus",
   "language": "python",
   "name": "django_extensions"
  },
  "language_info": {
   "codemirror_mode": {
    "name": "ipython",
    "version": 3
   },
   "file_extension": ".py",
   "mimetype": "text/x-python",
   "name": "python",
   "nbconvert_exporter": "python",
   "pygments_lexer": "ipython3",
   "version": "3.13.0"
  }
 },
 "nbformat": 4,
 "nbformat_minor": 5
}
