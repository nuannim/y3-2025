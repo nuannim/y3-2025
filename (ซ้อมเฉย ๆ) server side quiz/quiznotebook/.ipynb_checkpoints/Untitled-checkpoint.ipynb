{
 "cells": [
  {
   "cell_type": "markdown",
   "id": "a1e5c121",
   "metadata": {},
   "source": [
    "# pip setup"
   ]
  },
  {
   "cell_type": "markdown",
   "id": "d2adc77f",
   "metadata": {},
   "source": [
    "เช็ค python ในเครื่อง"
   ]
  },
  {
   "cell_type": "code",
   "execution_count": 1,
   "id": "7fe5840b",
   "metadata": {},
   "outputs": [
    {
     "ename": "NameError",
     "evalue": "name 'python' is not defined",
     "output_type": "error",
     "traceback": [
      "\u001b[1;31m---------------------------------------------------------------------------\u001b[0m",
      "\u001b[1;31mNameError\u001b[0m                                 Traceback (most recent call last)",
      "Cell \u001b[1;32mIn[1], line 1\u001b[0m\n\u001b[1;32m----> 1\u001b[0m \u001b[43mpython\u001b[49m \u001b[38;5;241m-\u001b[39m\u001b[38;5;241m-\u001b[39mversion\n",
      "\u001b[1;31mNameError\u001b[0m: name 'python' is not defined"
     ]
    }
   ],
   "source": [
    "python --version"
   ]
  },
  {
   "cell_type": "code",
   "execution_count": 2,
   "id": "bdeecb77",
   "metadata": {},
   "outputs": [
    {
     "name": "stdout",
     "output_type": "stream",
     "text": [
      "Requirement already satisfied: virtualenv in c:\\users\\noey\\desktop\\server side quiz\\myvenv\\lib\\site-packages (20.33.0)\n",
      "Requirement already satisfied: distlib<1,>=0.3.7 in c:\\users\\noey\\desktop\\server side quiz\\myvenv\\lib\\site-packages (from virtualenv) (0.4.0)\n",
      "Requirement already satisfied: filelock<4,>=3.12.2 in c:\\users\\noey\\desktop\\server side quiz\\myvenv\\lib\\site-packages (from virtualenv) (3.18.0)\n",
      "Requirement already satisfied: platformdirs<5,>=3.9.1 in c:\\users\\noey\\desktop\\server side quiz\\myvenv\\lib\\site-packages (from virtualenv) (4.3.8)\n",
      "Note: you may need to restart the kernel to use updated packages.\n"
     ]
    },
    {
     "name": "stderr",
     "output_type": "stream",
     "text": [
      "\n",
      "[notice] A new release of pip is available: 24.0 -> 25.2\n",
      "[notice] To update, run: python.exe -m pip install --upgrade pip\n"
     ]
    }
   ],
   "source": [
    "pip install virtualenv"
   ]
  },
  {
   "cell_type": "code",
   "execution_count": null,
   "id": "afbc9000",
   "metadata": {},
   "outputs": [],
   "source": [
    "py -m venv myvenv"
   ]
  },
  {
   "cell_type": "code",
   "execution_count": null,
   "id": "4f652fd5",
   "metadata": {},
   "outputs": [],
   "source": [
    "cd myvenv\\Scripts\\activate.bat"
   ]
  },
  {
   "cell_type": "markdown",
   "id": "03a4d343",
   "metadata": {},
   "source": [
    "ลงใน venv (เข้า venv แล้ว)"
   ]
  },
  {
   "cell_type": "code",
   "execution_count": null,
   "id": "6bc0fe4d",
   "metadata": {},
   "outputs": [],
   "source": [
    "pip install django psycopg2 psycopg2-binary"
   ]
  },
  {
   "cell_type": "code",
   "execution_count": null,
   "id": "a23e501b",
   "metadata": {},
   "outputs": [],
   "source": [
    "pip install django-extensions ipython jupyter notebook"
   ]
  },
  {
   "cell_type": "code",
   "execution_count": null,
   "id": "49661b34",
   "metadata": {},
   "outputs": [],
   "source": [
    "pip install ipython==8.25.0 jupyter_server==2.14.1 jupyterlab==4.2.2 jupyterlab_server==2.27.2"
   ]
  },
  {
   "cell_type": "code",
   "execution_count": null,
   "id": "5e7de01f",
   "metadata": {},
   "outputs": [],
   "source": [
    "pip install notebook==6.5.7"
   ]
  }
 ],
 "metadata": {
  "kernelspec": {
   "display_name": "Django Shell-Plus",
   "language": "python",
   "name": "django_extensions"
  },
  "language_info": {
   "codemirror_mode": {
    "name": "ipython",
    "version": 3
   },
   "file_extension": ".py",
   "mimetype": "text/x-python",
   "name": "python",
   "nbconvert_exporter": "python",
   "pygments_lexer": "ipython3",
   "version": "3.11.9"
  }
 },
 "nbformat": 4,
 "nbformat_minor": 5
}
