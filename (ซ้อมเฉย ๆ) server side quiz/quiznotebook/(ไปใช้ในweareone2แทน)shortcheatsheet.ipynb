{
 "cells": [
  {
   "cell_type": "markdown",
   "id": "cc214f48",
   "metadata": {
    "vscode": {
     "languageId": "shellscript"
    }
   },
   "source": [
    "# steps\n",
    "1. เช็คเวอชัน python / ลง virtualenv / activate.bat\n",
    "2. startproject แล้วเข้าไปในโฟลเด้อ project นั้น\n",
    "3. py startapp \n",
    "4. เพิ่ม models.py / แก้ settings.py เพิ่ม app + database / เพิ่ม database in postgres sql\n",
    "5. makemigrations / migrate"
   ]
  },
  {
   "cell_type": "markdown",
   "id": "a1e5c121",
   "metadata": {},
   "source": [
    "# pip setup"
   ]
  },
  {
   "cell_type": "markdown",
   "id": "d2adc77f",
   "metadata": {},
   "source": [
    "เช็ค python ในเครื่อง"
   ]
  },
  {
   "cell_type": "code",
   "execution_count": null,
   "id": "7fe5840b",
   "metadata": {
    "vscode": {
     "languageId": "shellscript"
    }
   },
   "outputs": [],
   "source": [
    "python --version"
   ]
  },
  {
   "cell_type": "code",
   "execution_count": null,
   "id": "afbc9000",
   "metadata": {
    "vscode": {
     "languageId": "shellscript"
    }
   },
   "outputs": [],
   "source": [
    "py -m venv myvenv"
   ]
  },
  {
   "cell_type": "code",
   "execution_count": null,
   "id": "bdeecb77",
   "metadata": {
    "vscode": {
     "languageId": "shellscript"
    }
   },
   "outputs": [],
   "source": [
    "pip install virtualenv"
   ]
  },
  {
   "cell_type": "code",
   "execution_count": null,
   "id": "4f652fd5",
   "metadata": {
    "vscode": {
     "languageId": "shellscript"
    }
   },
   "outputs": [],
   "source": [
    "cd myvenv\\Scripts\\activate.bat"
   ]
  },
  {
   "cell_type": "markdown",
   "id": "03a4d343",
   "metadata": {},
   "source": [
    "ลงใน venv (เข้า venv แล้ว)"
   ]
  },
  {
   "cell_type": "code",
   "execution_count": null,
   "id": "6bc0fe4d",
   "metadata": {
    "vscode": {
     "languageId": "shellscript"
    }
   },
   "outputs": [],
   "source": [
    "pip install django psycopg2 psycopg2-binary"
   ]
  },
  {
   "cell_type": "code",
   "execution_count": null,
   "id": "a23e501b",
   "metadata": {
    "vscode": {
     "languageId": "shellscript"
    }
   },
   "outputs": [],
   "source": [
    "pip install django-extensions ipython jupyter notebook"
   ]
  },
  {
   "cell_type": "code",
   "execution_count": null,
   "id": "49661b34",
   "metadata": {
    "vscode": {
     "languageId": "shellscript"
    }
   },
   "outputs": [],
   "source": [
    "pip install ipython==8.25.0 jupyter_server==2.14.1 jupyterlab==4.2.2 jupyterlab_server==2.27.2"
   ]
  },
  {
   "cell_type": "code",
   "execution_count": null,
   "id": "5e7de01f",
   "metadata": {
    "vscode": {
     "languageId": "shellscript"
    }
   },
   "outputs": [],
   "source": [
    "pip install notebook==6.5.7"
   ]
  },
  {
   "cell_type": "markdown",
   "id": "5308d507",
   "metadata": {},
   "source": [
    "---"
   ]
  },
  {
   "cell_type": "markdown",
   "id": "9959458c",
   "metadata": {},
   "source": [
    "# startproject / startapp / runserver"
   ]
  },
  {
   "cell_type": "code",
   "execution_count": null,
   "id": "77329b53",
   "metadata": {
    "vscode": {
     "languageId": "shellscript"
    }
   },
   "outputs": [],
   "source": [
    "django-admin startproject myshop"
   ]
  },
  {
   "cell_type": "markdown",
   "id": "3806b3a8",
   "metadata": {},
   "source": [
    "เข้าไปใน folder project ที่สร้าง (myshop) จะเจอ manage.py  \n",
    "เสร็จแล้วใช้คำสั่งด้านล่าง"
   ]
  },
  {
   "cell_type": "code",
   "execution_count": null,
   "id": "10726e60",
   "metadata": {
    "vscode": {
     "languageId": "shellscript"
    }
   },
   "outputs": [],
   "source": [
    "python manage.py startapp shop"
   ]
  },
  {
   "cell_type": "markdown",
   "id": "9d3f2471",
   "metadata": {},
   "source": [
    "สั่ง runserver --> จะขึ้นเป็นหน้าเว็บ localhost"
   ]
  },
  {
   "cell_type": "code",
   "execution_count": null,
   "id": "91ceeb24",
   "metadata": {
    "vscode": {
     "languageId": "shellscript"
    }
   },
   "outputs": [],
   "source": [
    "python manage.py runserver"
   ]
  },
  {
   "cell_type": "code",
   "execution_count": null,
   "id": "48f677d2",
   "metadata": {
    "vscode": {
     "languageId": "shellscript"
    }
   },
   "outputs": [],
   "source": [
    "python manage.py runserver 8000\n",
    "# ถ้าอยากกำหนด port"
   ]
  },
  {
   "cell_type": "markdown",
   "id": "a6f170e1",
   "metadata": {},
   "source": [
    "---\n",
    "# settings.py\n",
    "- สร้าง database แล้วก็ ใส่ชื่อ database ในไฟล์ settings.py ด้วย\n",
    "- มีแอปอะไรเพิ่มมา ใส่ที่ INSTALLED_APPS ด้วย\n",
    "- **อย่าลืมใส่ django_extensions**"
   ]
  },
  {
   "cell_type": "code",
   "execution_count": null,
   "id": "5d430d01",
   "metadata": {},
   "outputs": [],
   "source": [
    "# Database setting\n",
    "DATABASES = {\n",
    "    \"default\": {\n",
    "        \"ENGINE\": \"django.db.backends.postgresql\",\n",
    "        \"NAME\": \"shop\", # ตามชื่อ database ที่สร้างใน postgressql\n",
    "        \"USER\": \"postgres\",\n",
    "        \"PASSWORD\": \"password\", # username + password ไม่ได้เหมือนกันทุกเครื่อง\n",
    "        \"HOST\": \"localhost\",\n",
    "        \"PORT\": \"5432\",\n",
    "    }\n",
    "}\n",
    "\n",
    "# Add app blogs to INSTALLED_APPS\n",
    "INSTALLED_APPS = [\n",
    "    \"django.contrib.admin\",\n",
    "    \"django.contrib.auth\",\n",
    "    \"django.contrib.contenttypes\",\n",
    "    \"django.contrib.sessions\",\n",
    "    \"django.contrib.messages\",\n",
    "    \"django.contrib.staticfiles\",\n",
    "\n",
    "    # Add your apps here\n",
    "    'django_extensions', # ตอนจะใช้ python manage.py shell_plus --notebook\n",
    "    \"shop\", # ตามชื่อ app ที่สร้าง (python manage.py startapp _____)\n",
    "]"
   ]
  },
  {
   "cell_type": "markdown",
   "id": "b63e39a8",
   "metadata": {},
   "source": [
    "---\n",
    "# models.py setup\n",
    "บอกตามตรง งง เอาเป็นว่าไปดูใน week03 ละกัน"
   ]
  },
  {
   "cell_type": "markdown",
   "id": "30fc552d",
   "metadata": {},
   "source": [
    "---\n",
    "# makemigrations / migrate\n",
    "- เพิ่ม models.py + ตั้งค่า settings.py แล้ว ให้ทำอันนี้\n",
    "- เข้าไปใน folder project ที่สร้าง จะเจอ manage.py"
   ]
  },
  {
   "cell_type": "code",
   "execution_count": null,
   "id": "5c2af897",
   "metadata": {
    "vscode": {
     "languageId": "shellscript"
    }
   },
   "outputs": [],
   "source": [
    "python manage.py makemigrations"
   ]
  },
  {
   "cell_type": "code",
   "execution_count": null,
   "id": "66bd5417",
   "metadata": {
    "vscode": {
     "languageId": "shellscript"
    }
   },
   "outputs": [],
   "source": [
    "python manage.py migrate"
   ]
  },
  {
   "cell_type": "markdown",
   "id": "3d57c637",
   "metadata": {},
   "source": [
    "---\n",
    "# คำสั่ง ความสัมพันธ์ในตาราง (week03)\n",
    "\n",
    "one to one\n"
   ]
  },
  {
   "cell_type": "code",
   "execution_count": null,
   "id": "990bbbc6",
   "metadata": {
    "vscode": {
     "languageId": "shellscript"
    }
   },
   "outputs": [],
   "source": [
    "order = models.OneToOneField(Order, on_delete=models.PROTECT)"
   ]
  },
  {
   "cell_type": "markdown",
   "id": "20c20f6f",
   "metadata": {},
   "source": [
    "\n",
    "one to many"
   ]
  },
  {
   "cell_type": "code",
   "execution_count": null,
   "id": "0412ee98",
   "metadata": {
    "vscode": {
     "languageId": "shellscript"
    }
   },
   "outputs": [],
   "source": [
    "payment = models.ForeignKey(Payment, on_delete=models.CASCADE)"
   ]
  },
  {
   "cell_type": "markdown",
   "id": "71e193bf",
   "metadata": {},
   "source": [
    "  \n",
    "many to many"
   ]
  },
  {
   "cell_type": "code",
   "execution_count": null,
   "id": "4e4c5159",
   "metadata": {
    "vscode": {
     "languageId": "shellscript"
    }
   },
   "outputs": [],
   "source": [
    "categories = models.ManyToManyField(Category) # if category ถูกสร้างแล้ว\n",
    "# or\n",
    "categories = models.ManyToManyField(\"blogs.Category\") \n",
    "\t# if category ยังไม่ถูกสร้าง ต้องอ้างอิง \"ชื่อแอป.Category\" "
   ]
  },
  {
   "cell_type": "markdown",
   "id": "b6483448",
   "metadata": {
    "vscode": {
     "languageId": "shellscript"
    }
   },
   "source": [
    "---\n",
    "# field types (week03) - ค้นว่า model fields ที่ใช่บ่อย"
   ]
  },
  {
   "cell_type": "markdown",
   "id": "5c0afc68",
   "metadata": {},
   "source": [
    "อันนี้จริง ๆ ไม่ครบ ไปดู week03 เอาดีกว่า"
   ]
  },
  {
   "cell_type": "code",
   "execution_count": null,
   "id": "aa64b350",
   "metadata": {
    "vscode": {
     "languageId": "shellscript"
    }
   },
   "outputs": [],
   "source": [
    "email = models.CharField(max_length=150)\n",
    "address = models.JSONField(null=True)\n",
    "description = models.TextField(null=True, blank=True)\n",
    "\n",
    "remaining_amount = models.PositiveIntegerField(default=0)\n",
    "price = models.DecimalField(max_digits=10, decimal_places=2)\n",
    "\n",
    "order_date = models.DateField()\n",
    "created_date = models.DateTimeField(auto_now_add=True)"
   ]
  },
  {
   "cell_type": "markdown",
   "id": "5ea5f895",
   "metadata": {},
   "source": [
    "ใน vscode ก็พิมพ์ models. `ctrl + space bar` ไป\n",
    "  \n",
    "---"
   ]
  },
  {
   "cell_type": "markdown",
   "id": "38c9e2d6",
   "metadata": {},
   "source": [
    "## enum"
   ]
  },
  {
   "cell_type": "code",
   "execution_count": null,
   "id": "bf5a4064",
   "metadata": {},
   "outputs": [],
   "source": [
    "from django.db import models\n",
    "from django.utils.translation import gettext_lazy as _\n",
    "\n",
    "class Student(models.Model):\n",
    "    class YearInSchool(models.TextChoices):\n",
    "        FRESHMAN = \"FR\", _(\"Freshman\")\n",
    "        SOPHOMORE = \"SO\", _(\"Sophomore\")\n",
    "        JUNIOR = \"JR\", _(\"Junior\")\n",
    "        SENIOR = \"SR\", _(\"Senior\")\n",
    "        GRADUATE = \"GR\", _(\"Graduate\")\n",
    "\n",
    "    year_in_school = models.CharField(\n",
    "        max_length=2,\n",
    "        choices=YearInSchool,\n",
    "        default=YearInSchool.FRESHMAN,\n",
    "    )\n",
    "\n",
    "    def is_upperclass(self):\n",
    "        return self.year_in_school in {\n",
    "            self.YearInSchool.JUNIOR,\n",
    "            self.YearInSchool.SENIOR,\n",
    "        }"
   ]
  },
  {
   "cell_type": "markdown",
   "id": "5de21b89",
   "metadata": {},
   "source": [
    "---\n",
    "# create objects / เอาข้อมูลเข้าตาราง แก้ไข ลบ\n",
    "\n",
    "### แบบปกติ (shell) + shell_plus"
   ]
  },
  {
   "cell_type": "code",
   "execution_count": null,
   "id": "93e172d7",
   "metadata": {
    "vscode": {
     "languageId": "shellscript"
    }
   },
   "outputs": [],
   "source": [
    "python manage.py shell"
   ]
  },
  {
   "cell_type": "code",
   "execution_count": null,
   "id": "96250500",
   "metadata": {
    "vscode": {
     "languageId": "shellscript"
    }
   },
   "outputs": [],
   "source": [
    "python manage.py shell_plus --notebook"
   ]
  },
  {
   "cell_type": "markdown",
   "id": "a575fd93",
   "metadata": {
    "vscode": {
     "languageId": "shellscript"
    }
   },
   "source": [
    "เพิ่มค่าเข้าไป"
   ]
  },
  {
   "cell_type": "code",
   "execution_count": null,
   "id": "702be1f7",
   "metadata": {
    "vscode": {
     "languageId": "shellscript"
    }
   },
   "outputs": [],
   "source": [
    "from shop.models import *\n",
    "# shop = ชื่อ app\n",
    "\n",
    "c1 = customer(\n",
    "    first_name = 'Django', \n",
    "    last_name = 'Reinhardt', \n",
    "    email = 'dj_rein@mail.com', \n",
    "    address = 'Liberchies, Pont-à-Celles, Belgium'\n",
    "    )\n",
    "c1.save()\n",
    "\n",
    "c2 = customer.objects.create(\n",
    "    first_name = 'Darwin',\n",
    "    last_name = 'Nunez',\n",
    "    email = '660xxxxx@kmitl.ac.th'\n",
    ")\n",
    "# ไม่ต้อง save\n"
   ]
  },
  {
   "cell_type": "markdown",
   "id": "db2c21c5",
   "metadata": {},
   "source": [
    "แก้ไขค่า --> object เดิม เท่ากับ แล้วก็ .save()"
   ]
  },
  {
   "cell_type": "code",
   "execution_count": null,
   "id": "7b9d0518",
   "metadata": {
    "vscode": {
     "languageId": "shellscript"
    }
   },
   "outputs": [],
   "source": [
    "# แก้ไข\n",
    "c1.first_name = 'nuannim'\n",
    "c1.save()\n",
    "\n",
    "# ลบ\n",
    "c2.delete()"
   ]
  },
  {
   "cell_type": "markdown",
   "id": "5367a555",
   "metadata": {},
   "source": [
    "# filter / where"
   ]
  },
  {
   "cell_type": "code",
   "execution_count": null,
   "id": "23f3d819",
   "metadata": {
    "vscode": {
     "languageId": "shellscript"
    }
   },
   "outputs": [],
   "source": [
    "p = product.objects.filter(name__icontains='cha')"
   ]
  },
  {
   "cell_type": "markdown",
   "id": "c4c71ab6",
   "metadata": {},
   "source": [
    "---\n",
    "# แปลง timezone (ไม่รู้ถูกไหม งงเหมือนกัน) (week3 - datetime)"
   ]
  },
  {
   "cell_type": "markdown",
   "id": "751d48a9",
   "metadata": {
    "vscode": {
     "languageId": "shellscript"
    }
   },
   "source": [
    "ไปดูเอาเองใน week3 เหอะ"
   ]
  },
  {
   "cell_type": "code",
   "execution_count": null,
   "id": "8e157d84",
   "metadata": {
    "vscode": {
     "languageId": "shellscript"
    }
   },
   "outputs": [],
   "source": [
    "from datetime import datetime, timedelta\n",
    "from zoneinfo import ZoneInfo\n",
    "from django.utils import timezone"
   ]
  },
  {
   "cell_type": "code",
   "execution_count": null,
   "id": "043cf8a4",
   "metadata": {
    "vscode": {
     "languageId": "shellscript"
    }
   },
   "outputs": [],
   "source": [
    "dt2 = datetime.now(tz=ZoneInfo('Asia/Bangkok'))\n",
    "# แปลง timezone to 'Asia/Bangkok'"
   ]
  },
  {
   "cell_type": "code",
   "execution_count": null,
   "id": "75073157",
   "metadata": {
    "vscode": {
     "languageId": "shellscript"
    }
   },
   "outputs": [],
   "source": [
    "ans = dt2 + timedelta(days=500)\n",
    "# บวกไปอีก 500 วัน"
   ]
  },
  {
   "cell_type": "markdown",
   "id": "34dad9de",
   "metadata": {},
   "source": [
    "---\n",
    "# notebook (shell_plus)"
   ]
  },
  {
   "cell_type": "code",
   "execution_count": null,
   "id": "62733fb4",
   "metadata": {
    "vscode": {
     "languageId": "shellscript"
    }
   },
   "outputs": [],
   "source": [
    "mkdir notebooks"
   ]
  },
  {
   "cell_type": "markdown",
   "id": "00590d1b",
   "metadata": {},
   "source": [
    "อย่าลืมใส่ `django_extensions` ก่อนด้วย ไม่งั้นรันไม่ได้"
   ]
  },
  {
   "cell_type": "code",
   "execution_count": null,
   "id": "3a60be76",
   "metadata": {},
   "outputs": [],
   "source": [
    "INSTALLED_APPS = [\n",
    "    \"django.contrib.admin\",\n",
    "    \"django.contrib.auth\",\n",
    "    \"django.contrib.contenttypes\",\n",
    "    \"django.contrib.sessions\",\n",
    "    \"django.contrib.messages\",\n",
    "    \"django.contrib.staticfiles\",\n",
    "    \"django_extensions\", # อันนี้\n",
    "    \"blogs\",\n",
    "]"
   ]
  },
  {
   "cell_type": "code",
   "execution_count": null,
   "id": "67185175",
   "metadata": {
    "vscode": {
     "languageId": "shellscript"
    }
   },
   "outputs": [],
   "source": [
    "python manage.py shell_plus --notebook"
   ]
  },
  {
   "cell_type": "code",
   "execution_count": null,
   "id": "16d32224",
   "metadata": {
    "vscode": {
     "languageId": "shellscript"
    }
   },
   "outputs": [],
   "source": [
    "import os\n",
    "os.environ[\"DJANGO_ALLOW_ASYNC_UNSAFE\"] = \"true\"\n",
    "\n",
    "from django.db.models import Q, Count, F, Value\n",
    "from django.db.models.functions import Length, Upper\n",
    "from django.db.models.lookups import GreaterThan\n",
    "\n",
    "from company.models import Company # ใช้ตารางไหนก็ import มา"
   ]
  },
  {
   "cell_type": "code",
   "execution_count": null,
   "id": "66434885",
   "metadata": {
    "vscode": {
     "languageId": "shellscript"
    }
   },
   "outputs": [],
   "source": [
    "from blogs.models import Blog\n",
    "\n",
    "for blog in Blog.objects.all():\n",
    "    print(blog)"
   ]
  },
  {
   "cell_type": "markdown",
   "id": "1bb60a06",
   "metadata": {},
   "source": [
    "# เงื่อนไข filter อยู่ใน week4 field_lookups"
   ]
  },
  {
   "cell_type": "markdown",
   "id": "9cbdc97d",
   "metadata": {},
   "source": [
    "select * from blog"
   ]
  },
  {
   "cell_type": "code",
   "execution_count": null,
   "id": "04f4343e",
   "metadata": {
    "vscode": {
     "languageId": "shellscript"
    }
   },
   "outputs": [],
   "source": [
    "blogs_as_dicts = Blog.objects.all().values()"
   ]
  },
  {
   "cell_type": "markdown",
   "id": "ed42ed9c",
   "metadata": {},
   "source": [
    "select * from Order  \n",
    "where order_date__month = 5  \n",
    "limit 10"
   ]
  },
  {
   "cell_type": "code",
   "execution_count": null,
   "id": "070fea32",
   "metadata": {
    "vscode": {
     "languageId": "shellscript"
    }
   },
   "outputs": [],
   "source": [
    "order = Order.objects.filter(order_date__month=5)[:10]\n",
    "\n",
    "# ในช่อง .filter() เอาไว้ใส่ field/column มันเลยลงท้ายด้วยชื่อ column\n",
    "# ใน วงเล็บ .filter() ต้องเป็นตัวพิมพ์เล็ก\n",
    "# เป็นการ join กันปลอม ๆ เพื่อใช้กับเงื่อนไขเฉย ๆ"
   ]
  },
  {
   "cell_type": "code",
   "execution_count": null,
   "id": "662ab4f6",
   "metadata": {
    "vscode": {
     "languageId": "shellscript"
    }
   },
   "outputs": [],
   "source": [
    "p = Product.objects.filter(\n",
    "    price__gt=5000, \n",
    "    categories__name='Information Technology'\n",
    "    ).values('categories__name')\n",
    "p\n",
    "\n",
    "# แม่งออกมาเป็น categories name จริง ๆ เว้ย ไว้ใช้เช็คเบื้องต้นน่าจะดีเลย"
   ]
  }
 ],
 "metadata": {
  "kernelspec": {
   "display_name": "Django Shell-Plus",
   "language": "python",
   "name": "django_extensions"
  },
  "language_info": {
   "codemirror_mode": {
    "name": "ipython",
    "version": 3
   },
   "file_extension": ".py",
   "mimetype": "text/x-python",
   "name": "python",
   "nbconvert_exporter": "python",
   "pygments_lexer": "ipython3",
   "version": "3.11.9"
  }
 },
 "nbformat": 4,
 "nbformat_minor": 5
}
