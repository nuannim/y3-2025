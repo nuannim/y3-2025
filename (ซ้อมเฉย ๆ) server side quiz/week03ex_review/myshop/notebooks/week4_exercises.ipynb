{
 "cells": [
  {
   "cell_type": "markdown",
   "metadata": {},
   "source": [
    "# WEEK 4 Exercises - Making Queries\n",
    "\n",
    "![ERD-E-COMMERCE](./images/ERD-week4-exercise.png)"
   ]
  },
  {
   "cell_type": "markdown",
   "metadata": {},
   "source": [
    "## Instruction\n",
    "\n",
    "1. สร้าง `virtual environment`\n",
    "2. ติดตั้ง `django` และ `psycopg2` libraries\n",
    "3. สร้างโปรเจคใหม่ใหม่ชื่อ`myshop`\n",
    "4. จากนั้นให้ทำการ startapp ใหม่ชื่อ `shop`\n",
    "5. สร้าง database ชื่อ `shop` ใน Postgres DB\n",
    "6. ทำการเพิ่ม code ด้านล่างนี้ในไฟล์ `shop/models.py`\n",
    "7. เพิ่ม **'shop'** ใน `settings.py`\n",
    "8. ทำการ `makemigrations` และ `migrate`\n",
    "\n",
    "\n",
    "```python\n",
    "from django.db import models\n",
    "\n",
    "# Create your models here.\n",
    "class Customer(models.Model):\n",
    "    first_name = models.CharField(max_length=150)\n",
    "    last_name = models.CharField(max_length=200)\n",
    "    email = models.CharField(max_length=150)\n",
    "    address = models.JSONField(null=True)\n",
    "\n",
    "class ProductCategory(models.Model):\n",
    "    name = models.CharField(max_length=150)\n",
    "\n",
    "class Product(models.Model):\n",
    "    name = models.CharField(max_length=150)\n",
    "    description = models.TextField(null=True, blank=True)\n",
    "    remaining_amount = models.PositiveIntegerField(default=0)\n",
    "    price = models.DecimalField(max_digits=10, decimal_places=2)\n",
    "    categories = models.ManyToManyField(ProductCategory)\n",
    "\n",
    "class Cart(models.Model):\n",
    "    customer = models.ForeignKey(Customer, on_delete=models.CASCADE)\n",
    "    create_date = models.DateTimeField()\n",
    "    expired_in = models.PositiveIntegerField(default=60)\n",
    "    \n",
    "class CartItem(models.Model):\n",
    "    cart = models.ForeignKey(Cart, on_delete=models.CASCADE)\n",
    "    product = models.ForeignKey(Product, on_delete=models.CASCADE)\n",
    "    amount = models.PositiveIntegerField(default=1)\n",
    "    \n",
    "class Order(models.Model):\n",
    "    customer = models.ForeignKey(Customer, on_delete=models.CASCADE)\n",
    "    order_date = models.DateField()\n",
    "    remark = models.TextField(null=True, blank=True)\n",
    "\n",
    "class OrderItem(models.Model):\n",
    "    order = models.ForeignKey(Order, on_delete=models.CASCADE)\n",
    "    product = models.ForeignKey(Product, on_delete=models.CASCADE)\n",
    "    amount = models.PositiveIntegerField(default=1)\n",
    "    \n",
    "class Payment(models.Model):\n",
    "    order = models.OneToOneField(Order, on_delete=models.PROTECT)\n",
    "    payment_date = models.DateField()\n",
    "    remark = models.TextField(null=True, blank=True)\n",
    "    price = models.DecimalField(max_digits=10, decimal_places=2)\n",
    "    discount = models.DecimalField(max_digits=10, decimal_places=2, default=0)\n",
    "\n",
    "class PaymentItem(models.Model):\n",
    "    payment = models.ForeignKey(Payment, on_delete=models.CASCADE)\n",
    "    order_item = models.OneToOneField(OrderItem, on_delete=models.CASCADE)\n",
    "    price = models.DecimalField(max_digits=10, decimal_places=2)\n",
    "    discount = models.DecimalField(max_digits=10, decimal_places=2, default=0)\n",
    "    \n",
    "class PaymentMethod(models.Model):\n",
    "    class MethodChoices(models.Choices):\n",
    "        QR = \"QR\"\n",
    "        CREDIT = \"CREDIT\"\n",
    "    \n",
    "    payment = models.ForeignKey(Payment, on_delete=models.CASCADE)\n",
    "    method = models.CharField(max_length=15, choices=MethodChoices.choices)\n",
    "    price = models.DecimalField(max_digits=10, decimal_places=2)\n",
    "```\n"
   ]
  },
  {
   "cell_type": "markdown",
   "metadata": {},
   "source": [
    "**จากนั้นให้ทำการ migrate และ run คำสั่งในไฟล์ `shop.sql` ใน PgAdmin4**"
   ]
  },
  {
   "cell_type": "code",
   "execution_count": 4,
   "metadata": {},
   "outputs": [],
   "source": [
    "import os\n",
    "os.environ[\"DJANGO_ALLOW_ASYNC_UNSAFE\"] = \"true\""
   ]
  },
  {
   "cell_type": "code",
   "execution_count": 7,
   "metadata": {},
   "outputs": [],
   "source": [
    " from shop.models import *"
   ]
  },
  {
   "cell_type": "markdown",
   "metadata": {},
   "source": [
    "### 1. ให้นักศึกษา Query ค้นหาข้อมูลมาแสดงให้ถูกต้องตามโจทย์\n",
    "\n",
    "1.1 query หาข้อมูล `Order` ทั้งหมดที่เกิดขึ้นในเดือน `พฤษภาคม` มาแสดงผล 10 รายการแรก และแสดงผลดังตัวอย่าง (0.25 คะแนน)\n",
    "\n",
    "```txt\n",
    "ORDER ID:22, DATE: 2024-05-01, \n",
    "ORDER ID:23, DATE: 2024-05-01, \n",
    "ORDER ID:24, DATE: 2024-05-01, \n",
    "ORDER ID:25, DATE: 2024-05-02, \n",
    "ORDER ID:26, DATE: 2024-05-02, \n",
    "ORDER ID:27, DATE: 2024-05-02, \n",
    "ORDER ID:28, DATE: 2024-05-03, \n",
    "ORDER ID:29, DATE: 2024-05-03, \n",
    "ORDER ID:30, DATE: 2024-05-03, \n",
    "ORDER ID:31, DATE: 2024-05-04, \n",
    "```"
   ]
  },
  {
   "cell_type": "code",
   "execution_count": 28,
   "metadata": {},
   "outputs": [
    {
     "name": "stdout",
     "output_type": "stream",
     "text": [
      "order id: 22, date: 2024-05-01\n",
      "order id: 23, date: 2024-05-01\n",
      "order id: 24, date: 2024-05-01\n",
      "order id: 25, date: 2024-05-02\n",
      "order id: 26, date: 2024-05-02\n",
      "order id: 27, date: 2024-05-02\n",
      "order id: 28, date: 2024-05-03\n",
      "order id: 29, date: 2024-05-03\n",
      "order id: 30, date: 2024-05-03\n",
      "order id: 31, date: 2024-05-04\n"
     ]
    }
   ],
   "source": [
    "order = Order.objects.filter(order_date__month=5)[:10]\n",
    "order\n",
    "\n",
    "for o in order:\n",
    "    print(f'order id: {o.id}, date: {o.order_date}')"
   ]
  },
  {
   "cell_type": "markdown",
   "metadata": {},
   "source": [
    "1.2 query หาข้อมูล `Order` ที่มีการซื้อสินค้าชื่อ \"Dog Bed\" (ดูที่รายการ `OrderItem`) และแสดงผลดังตัวอย่าง (0.25 คะแนน)\n",
    "\n",
    "```txt\n",
    "# ตัวอย่างบางส่วน\n",
    "ORDER ID: 8, ORDER_DATE: 2024-04-26, CUSTOMER: Suwichada Jarastham, REMARK: None\n",
    "```"
   ]
  },
  {
   "cell_type": "code",
   "execution_count": 35,
   "metadata": {},
   "outputs": [
    {
     "name": "stdout",
     "output_type": "stream",
     "text": [
      "order id: 8, order_date: 2024-04-26, customer: Suwichada, remark: None\n",
      "order id: 16, order_date: 2024-04-29, customer: Trinnapon, remark: None\n",
      "order id: 23, order_date: 2024-05-01, customer: Warit, remark: None\n",
      "order id: 36, order_date: 2024-05-05, customer: Manit, remark: None\n",
      "order id: 63, order_date: 2024-05-14, customer: Dejwit, remark: None\n",
      "order id: 79, order_date: 2024-05-20, customer: Techathorn, remark: None\n",
      "order id: 151, order_date: 2024-06-13, customer: Thitirat, remark: None\n"
     ]
    }
   ],
   "source": [
    "dogbed = Order.objects.filter(orderitem__product__name__icontains='Dog Bed')\n",
    "dogbed\n",
    "\n",
    "for d in dogbed:\n",
    "    print(\n",
    "f'order id: {d.id}, \\\n",
    "order_date: {d.order_date}, \\\n",
    "customer: {d.customer.first_name}, \\\n",
    "remark: {d.remark}'\n",
    "    )"
   ]
  },
  {
   "cell_type": "markdown",
   "metadata": {},
   "source": [
    "1.3 query หาข้อมูล `Product` ที่มีราคาสินค้าตั้งแต่ `5000.00` ขึ้นไป และอยู่ในหมวดหมู่ `Information Technology` และแสดงผลดังตัวอย่าง (0.25 คะแนน)\n",
    "\n",
    "```txt\n",
    "# ตัวอย่างบางส่วน \n",
    "PRODUCT ID: 1, NAME: Smartphone, PRICE: 5900.00\n",
    "```"
   ]
  },
  {
   "cell_type": "code",
   "execution_count": 39,
   "metadata": {},
   "outputs": [
    {
     "name": "stdout",
     "output_type": "stream",
     "text": [
      "product id: 1, name: Smartphone, price: 5900.00\n",
      "product id: 2, name: Laptop, price: 25999.00\n",
      "product id: 3, name: Smart TV, price: 8900.00\n",
      "product id: 5, name: Tablet, price: 12900.00\n",
      "product id: 7, name: Digital Camera, price: 32000.00\n"
     ]
    }
   ],
   "source": [
    "p = Product.objects.filter(\n",
    "    price__gt=5000, \n",
    "    categories__name='Information Technology'\n",
    ")\n",
    "\n",
    "for i in p:\n",
    "    print(\n",
    "f'product id: {i.id}, \\\n",
    "name: {i.name}, \\\n",
    "price: {i.price}')\n",
    "\n",
    "\n"
   ]
  },
  {
   "cell_type": "markdown",
   "metadata": {},
   "source": [
    "1.4 query หาข้อมูล `Product` ที่มีราคาสินค้าน้อยกว่า `200.00` และมากกว่า `100.00` และแสดงผลดังตัวอย่าง (0.25 คะแนน)\n",
    "\n",
    "```txt\n",
    "PRODUCT ID: 28, NAME: Women's Sweater, PRICE: 190.00\n",
    "PRODUCT ID: 66, NAME: Salvage the Bones, PRICE: 129.00\n",
    "```"
   ]
  },
  {
   "cell_type": "code",
   "execution_count": 41,
   "metadata": {},
   "outputs": [
    {
     "name": "stdout",
     "output_type": "stream",
     "text": [
      "product id: 28, name: Women's Sweater, price: 190.00\n",
      "product id: 66, name: Salvage the Bones, price: 129.00\n"
     ]
    }
   ],
   "source": [
    "product2 = Product.objects.filter(\n",
    "    price__lt=200,\n",
    "    price__gt=100,\n",
    ")\n",
    "\n",
    "for i in product2:\n",
    "    print(\n",
    "f'product id: {i.id}, \\\n",
    "name: {i.name}, \\\n",
    "price: {i.price}'\n",
    "    )"
   ]
  },
  {
   "cell_type": "markdown",
   "metadata": {},
   "source": [
    "1.5 query หาข้อมูล `Product` ในหมวดหมู่ `Electronics` หรือ `Toys and Games` ที่มีราคามากกว่าหรือเท่ากับ 10,000 หรือมีจำนวนคงเหลือน้อยกว่าหรือเท่ากับ 10 และแสดงผลดังตัวอย่าง (0.25 คะแนน)\n",
    "\n",
    "```txt\n",
    "# ตัวอย่างบางส่วน \n",
    "PRODUCT ID: 2,\tPRICE: 25999.00, REMAINING: 19, CATEGORIES: Information Technology, Electronics\n",
    "PRODUCT ID: 3,\tPRICE: 8900.00, REMAINING: 10, CATEGORIES: Information Technology, Electronics\n",
    "PRODUCT ID: 6,\tPRICE: 5000.00, REMAINING: 10, CATEGORIES: Information Technology, Electronics\n",
    "PRODUCT ID: 7,\tPRICE: 32000.00, REMAINING: 4, CATEGORIES: Information Technology, Electronics\n",
    "PRODUCT ID: 8,\tPRICE: 990.00, REMAINING: 0, CATEGORIES: Information Technology, Electronics\n",
    "PRODUCT ID: 8,\tPRICE: 990.00, REMAINING: 0, CATEGORIES: Information Technology, Electronics\n",
    "```"
   ]
  },
  {
   "cell_type": "code",
   "execution_count": 70,
   "metadata": {},
   "outputs": [
    {
     "name": "stdout",
     "output_type": "stream",
     "text": [
      "product id: 2,     price: 25999.00, remaining: 19, categories: Information TechnologyElectronics\n",
      "product id: 3,     price: 8900.00, remaining: 10, categories: Information TechnologyElectronics\n",
      "product id: 5,     price: 12900.00, remaining: 22, categories: Information TechnologyElectronics\n",
      "product id: 6,     price: 5000.00, remaining: 10, categories: Information TechnologyElectronics\n",
      "product id: 7,     price: 32000.00, remaining: 4, categories: Information TechnologyElectronics\n",
      "product id: 8,     price: 990.00, remaining: 0, categories: Information TechnologyElectronics\n",
      "product id: 14,     price: 18900.00, remaining: 30, categories: Electronics\n",
      "product id: 50,     price: 500.00, remaining: 10, categories: Toys and Games\n"
     ]
    }
   ],
   "source": [
    "product3 = Product.objects.filter(\n",
    "    (Q(categories__name='Electronics') | Q(categories__name='Toys and Games')),\n",
    "    Q(price__gte=10000) | Q(remaining_amount__lte=10)\n",
    ")\n",
    "\n",
    "product3\n",
    "\n",
    "for i in product3:\n",
    "    print(f'product id: {i.id}, \\\n",
    "    price: {i.price}, remaining: {i.remaining_amount}, categories: ', end='')\n",
    "    for j in i.categories.all():\n",
    "        print(f'{j.name}', end='')\n",
    "    print()\n",
    "    "
   ]
  },
  {
   "cell_type": "markdown",
   "metadata": {},
   "source": [
    "1.6 query หาข้อมูล Product โดยมีเงื่อนไขดังนี้: (0.25 คะแนน)\n",
    "\n",
    "- ชื่อสินค้ามีคำว่า `Smart` หรือ `Electric`\n",
    "- รายละเอียดสินค้า ไม่มีคำว่า `compact` หรือ `portable`\n",
    "- รายละเอียดสินค้ามีชื่อสินค้า\n",
    "\n",
    "และแสดงผลดังตัวอย่าง\n",
    "```txt\n",
    "PRODUCT ID: 1, NAME: Smartphone, DESCRIPTION: A sleek and powerful smartphone with advanced features. \n",
    "PRODUCT ID: 10, NAME: Smartwatch, DESCRIPTION: A stylish smartwatch with health monitoring and notification features. \n",
    "PRODUCT ID: 16, NAME: Electric Kettle, DESCRIPTION: Fast-boiling electric kettle with auto shut-off feature. \n",
    "PRODUCT ID: 18, NAME: Electric Fan, DESCRIPTION: Oscillating electric fan for cooling rooms. \n",
    "```"
   ]
  },
  {
   "cell_type": "code",
   "execution_count": null,
   "metadata": {},
   "outputs": [],
   "source": []
  },
  {
   "cell_type": "markdown",
   "metadata": {},
   "source": [
    "### 2. เพิ่ม ลบ แก้ไข สินค้า"
   ]
  },
  {
   "cell_type": "markdown",
   "metadata": {},
   "source": [
    "2.1 ให้เพิ่มสินค้าใหม่จำนวน 3 รายการ (0.1 คะแนน)\n",
    "\n",
    "```txt\n",
    "สินค้าที่ 1\n",
    "ชื่อ: Philosopher's Stone (1997)\n",
    "หมวดหมู่สินค้า: Books and Media\n",
    "จำนวนคงเหลือ: 20\n",
    "รายละเอียดซ: By J. K. Rowling.\n",
    "ราคา: 790\n",
    "\n",
    "สินค้าที่ 2\n",
    "ชื่อ: Me Before You\n",
    "หมวดหมู่สินค้า: Books and Media\n",
    "จำนวนคงเหลือ: 40\n",
    "รายละเอียดซ: A romance novel written by Jojo\n",
    "ราคา: 390\n",
    "\n",
    "สินค้าที่ 3\n",
    "ชื่อ: Notebook HP Pavilion Silver\n",
    "หมวดหมู่สินค้า: Information Technology และ Electronics\n",
    "จำนวนคงเหลือ: 10\n",
    "รายละเอียดซ: Display Screen. 16.0\n",
    "ราคา: 20000\n",
    "```"
   ]
  },
  {
   "cell_type": "code",
   "execution_count": null,
   "metadata": {},
   "outputs": [],
   "source": []
  },
  {
   "cell_type": "markdown",
   "metadata": {},
   "source": [
    "2.2 แก้ไขชื่อสินค้า จาก `Philosopher's Stone (1997)` เป็น `Half-Blood Prince (2005)` (0.1 คะแนน)"
   ]
  },
  {
   "cell_type": "code",
   "execution_count": null,
   "metadata": {},
   "outputs": [],
   "source": []
  },
  {
   "cell_type": "markdown",
   "metadata": {},
   "source": [
    "2.3 แก้ไขชื่อหมวดหมู่สินค้า จาก `Books and Media` เป็น `Books` (0.1 คะแนน)"
   ]
  },
  {
   "cell_type": "code",
   "execution_count": null,
   "metadata": {},
   "outputs": [],
   "source": []
  },
  {
   "cell_type": "markdown",
   "metadata": {},
   "source": [
    "2.4 ลบสินค้าทุกตัวที่อยู่ในหมวดหมู่ `Books` (0.2 คะแนน)"
   ]
  },
  {
   "cell_type": "code",
   "execution_count": null,
   "metadata": {},
   "outputs": [],
   "source": []
  }
 ],
 "metadata": {
  "kernelspec": {
   "display_name": "Django Shell-Plus",
   "language": "python",
   "name": "django_extensions"
  },
  "language_info": {
   "codemirror_mode": {
    "name": "ipython",
    "version": 3
   },
   "file_extension": ".py",
   "mimetype": "text/x-python",
   "name": "python",
   "nbconvert_exporter": "python",
   "pygments_lexer": "ipython3",
   "version": "3.11.9"
  }
 },
 "nbformat": 4,
 "nbformat_minor": 2
}
