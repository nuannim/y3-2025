{
 "cells": [
  {
   "cell_type": "code",
   "execution_count": 2,
   "metadata": {},
   "outputs": [],
   "source": [
    "import os\n",
    "os.environ[\"DJANGO_ALLOW_ASYNC_UNSAFE\"] = \"true\"\n",
    "\n",
    "from datetime import datetime, timedelta\n",
    "from order.models import *\n",
    "from django.db.models import Avg, Sum, Count, Q, F"
   ]
  },
  {
   "cell_type": "markdown",
   "metadata": {},
   "source": [
    "# 1. Models + CRUD operations\n",
    "\n",
    "*ใน PART 1 นี้ใช้ไฟล์ข้อมูล order-1.sql*\n",
    "\n",
    "**ส่งใน onlearn.it.kmitl.ac.th และเปลี่ยนชื่อไฟล์เป็นรหัสนักศึกษาเช่น 6700001.ipynb**"
   ]
  },
  {
   "cell_type": "markdown",
   "metadata": {},
   "source": [
    "1.1 เพิ่ม model `Payment` สำหรับบันทึกการชำระเงิน โดยมี fields ดังต่อไปนี้ (1 คะแนน)\n",
    "- order - one-to-one relationship with `Order`\n",
    "- tip - เป็น Decimal field ซึ่งเก็บจำนวนทิป เป็นเลข 10 หลัก ทศนิยม 2 ตำแหน่ง และมีค่าตั้งต้นเป็น 0\n",
    "- amount - เป็น Decimal field ซึ่งเก็บจำนวนยอดเงินรับชำระ เป็นเลข 10 หลัก ทศนิยม 2 ตำแหน่ง และมีค่าตั้งต้นเป็น 0\n",
    "- payment_date - เป็น DateTime บันทึกวัน-เวลาที่ทำการสร้าง payment บันทึกเวลาปัจจุบันอัตโนมัติเมื่อมีการสร้าง Payment\n",
    "- payment_method - เป็น ENUM field บันทึกช่องทางการชำระมี 3 ค่า CASH, QR, CREDIT และมีค่าตั้งต้นเป็น CASH"
   ]
  },
  {
   "cell_type": "code",
   "execution_count": null,
   "metadata": {},
   "outputs": [],
   "source": [
    "# Copy code ของ model Payment มาแสดงตรงนี้ (ไม่ต้อง run cell นี้)\n",
    "class Payment(models.Model):\n",
    "    order = models.OneToOneField(Order, on_delete=models.PROTECT)\n",
    "    tip = models.DecimalField(max_digits=10, decimal_places=2, default=0)\n",
    "    amount = models.DecimalField(max_digits=10, decimal_places=2, default=0)\n",
    "    payment_date = models.DateTimeField(auto_now_add=True)\n",
    "\n",
    "    class PaymentMethod(models.TextChoices):\n",
    "        CASH = 'CASH',\n",
    "        QR = 'QR',\n",
    "        CREDIT = 'CREDIT'\n",
    "\n",
    "    payment_method = models.CharField(\n",
    "        max_length=6,\n",
    "        choices=PaymentMethod,\n",
    "        default=PaymentMethod.CASH\n",
    "    )"
   ]
  },
  {
   "cell_type": "markdown",
   "metadata": {},
   "source": [
    "1.2 เพิ่ม model `MainIngredient` สำหรับบันทึกส่วนประกอบของเมนูแต่ละเมนู โดยมี fields ดังต่อไปนี้ (1 คะแนน)\n",
    "- name - เก็บข้อมูลชื่อส่วนประกอบไม่เกิน 100 ตัวอักษร ห้ามเป็น NULL\n",
    "- description - เก็บข้อมูลอธิบายเพิ่มเติมไม่เกิน 200 ตัวอักษร ค่าเป็น NULL ได้\n",
    "\n",
    "**model MainIngredient มีความสัมพันธ์แบบ many-to-many กับ MenuItem**"
   ]
  },
  {
   "cell_type": "code",
   "execution_count": null,
   "metadata": {},
   "outputs": [],
   "source": [
    "# Copy code ของ model MainIngredient มาแสดงตรงนี้ (ไม่ต้อง run cell นี้)\n",
    "class MainIngredient(models.Model):\n",
    "    name = models.CharField(max_length=100, null=False)\n",
    "    description = models.CharField(max_length=200, null=True)\n",
    "    menu_item = models.ManyToManyField(MenuItem)\n",
    "\n",
    "    def __str__(self):\n",
    "        return self.name"
   ]
  },
  {
   "cell_type": "markdown",
   "metadata": {},
   "source": [
    "1.3 ให้เพิ่มลูกค้า (`Customer`) โดยมีข้อมูลดังนี้ (1 คะแนน)\n",
    "\n",
    "- first_name: Stephen\n",
    "- last_name: Curry\n",
    "- email: s.curry30@gmail.com\n",
    "- phone_number: 089-777-6655"
   ]
  },
  {
   "cell_type": "code",
   "execution_count": 2,
   "metadata": {},
   "outputs": [],
   "source": [
    "# CODE HERE\n",
    "c13 = Customer.objects.create(\n",
    "    first_name = 'Stephen',\n",
    "    last_name = 'Curry',\n",
    "    email='s.curry30@gmail.com',\n",
    "    phone_number = '089-777-6655'\n",
    ")\n"
   ]
  },
  {
   "cell_type": "code",
   "execution_count": 3,
   "metadata": {},
   "outputs": [
    {
     "name": "stdout",
     "output_type": "stream",
     "text": [
      "Stephen Curry\n"
     ]
    }
   ],
   "source": [
    "# CHECK RESULTS (ห้ามลบ/แก้ไข)\n",
    "cust = Customer.objects.get(first_name=\"Stephen\")\n",
    "print(cust)"
   ]
  },
  {
   "cell_type": "markdown",
   "metadata": {},
   "source": [
    "1.4 เพิ่ม method `display_phone_number()` ใน model `Customer` สำหรับแสดงข้อมูลเบอร์โทรศัพท์ โดยตัดเครื่องหมาย '-' ออก และเติม '+66' ไปด้านหน้า ซึ่งจะต้องแสดงผลดังนี้: '+66897776655' (1 คะแนน)\n",
    "\n",
    "*Hint: เมื่อเขียน method ใน model `Customer` เสร็จแล้ว จะต้อง restart Jupyter Notebook หนึ่งครั้ง*"
   ]
  },
  {
   "cell_type": "code",
   "execution_count": null,
   "metadata": {},
   "outputs": [],
   "source": [
    "# Copy code ของ method display_phone_number() มาแสดงตรงนี้ (ไม่ต้อง run cell นี้)\n",
    "def display_phone_number(self):\n",
    "    first = self.phone_number[1:3]\n",
    "    center = self.phone_number[4:7]\n",
    "    last = self.phone_number[8:]\n",
    "\n",
    "    return f\"+66{first}{center}{last}\""
   ]
  },
  {
   "cell_type": "code",
   "execution_count": 8,
   "metadata": {},
   "outputs": [
    {
     "name": "stdout",
     "output_type": "stream",
     "text": [
      "+66834567890\n",
      "+66825678901\n",
      "+66896789012\n",
      "+66817890123\n",
      "+66897776655\n"
     ]
    }
   ],
   "source": [
    "# CHECK RESULTS (ห้ามลบ/แก้ไข)\n",
    "for customer in Customer.objects.all():\n",
    "    print(customer.display_phone_number())"
   ]
  },
  {
   "cell_type": "markdown",
   "metadata": {},
   "source": [
    "1.5 เพิ่มข้อมูล `MainIngredient` สำหรับ `MenuItem` โดยเพิ่มข้อมูลดังนี้ (1 คะแนน)\n",
    "- MenuItem: 'Lemonade'\n",
    "    - ส่วนประกอบที่ 1 => name: Lemon, description: Organic fresh lemon from our farm\n",
    "    - ส่วนประกอบที่ 2 => name: Sugar, description: None\n",
    "- MenuItem: 'Caesar Salad'\n",
    "    - ส่วนประกอบที่ 1 => name: Romaine lettuce, description: None\n",
    "    - ส่วนประกอบที่ 2 => name: Croutons, description: None\n",
    "    - ส่วนประกอบที่ 3 => name: Lemon, description: Organic fresh lemon from our farm **(ต้องเป็นตัวเดิมที่สร้างตอนทำของ Lemonade)**\n",
    "    - ส่วนประกอบที่ 4 => name: Parmesan cheese, description: Cheese allergy"
   ]
  },
  {
   "cell_type": "code",
   "execution_count": 5,
   "metadata": {},
   "outputs": [],
   "source": [
    "# CODE HERE\n",
    "from order.models import MainIngredient\n",
    "\n",
    "\n",
    "mi151 = MenuItem.objects.get(name='Lemonade')\n",
    "\n",
    "lemonade1 = MainIngredient.objects.create(\n",
    "    name='Lemon', \n",
    "    description='Organic fresh lemon from our farm'\n",
    ")\n",
    "\n",
    "lemonade2 = MainIngredient.objects.create(\n",
    "    name='Sugar'\n",
    ")\n",
    "\n",
    "lemonade1.menu_item.add(mi151)\n",
    "lemonade2.menu_item.add(mi151)\n",
    "\n",
    "\n",
    "##################\n",
    "mi152 = MenuItem.objects.get(name='Caesar Salad')\n",
    "\n",
    "salad1 = MainIngredient.objects.create(\n",
    "    name='Romaine lettuce'\n",
    ")\n",
    "\n",
    "salad2 = MainIngredient.objects.create(\n",
    "    name=\"Croutons\"\n",
    ")\n",
    "\n",
    "salad3 = MainIngredient.objects.get(name='Lemon') \n",
    "salad4 = MainIngredient.objects.create(\n",
    "    name=\"Parmesan cheese\", \n",
    "    description='Cheese allergy'\n",
    ") \n",
    "\n",
    "salad1.menu_item.add(mi152)\n",
    "salad2.menu_item.add(mi152)\n",
    "salad3.menu_item.add(mi152)\n",
    "salad4.menu_item.add(mi152)\n"
   ]
  },
  {
   "cell_type": "code",
   "execution_count": 13,
   "metadata": {},
   "outputs": [
    {
     "name": "stdout",
     "output_type": "stream",
     "text": [
      "MENU: Caesar Salad\n",
      "- Lemon (Organic fresh lemon from our farm)\n",
      "- Romaine lettuce (N/A)\n",
      "- Croutons (N/A)\n",
      "- Parmesan cheese (Cheese allergy)\n",
      "MENU: Lemonade\n",
      "- Lemon (Organic fresh lemon from our farm)\n",
      "- Sugar (N/A)\n"
     ]
    }
   ],
   "source": [
    "# CHECK RESULTS (ห้ามลบ/แก้ไข)\n",
    "for menu in MenuItem.objects.filter(name__in=[\"Lemonade\", \"Caesar Salad\"]):\n",
    "    print(f\"MENU: {menu.name}\")\n",
    "    for ingredient in menu.mainingredient_set.all():\n",
    "        print(f\"- {ingredient.name} ({ingredient.description or 'N/A'})\")"
   ]
  },
  {
   "cell_type": "markdown",
   "metadata": {},
   "source": [
    "1.6 ให้สร้าง `Order` ที่มีรายการ 'Margherita Pizza', 'Caesar Salad', 'Chocolate Lava Cake' และ 'Coffee' อย่างละ 1 ที่สั่งโดยคุณ Stephen Curry (1 คะแนน)"
   ]
  },
  {
   "cell_type": "code",
   "execution_count": 6,
   "metadata": {},
   "outputs": [],
   "source": [
    "# CODE HERE\n",
    "stephen = Customer.objects.get(first_name='Stephen', last_name='Curry')\n",
    "\n",
    "order = Order.objects.create(\n",
    "    customer=stephen\n",
    ")\n",
    "\n",
    "pizzamenu = MenuItem.objects.get(name='Margherita Pizza')\n",
    "saladmenu = MenuItem.objects.get(name='Caesar Salad')\n",
    "cakemenu = MenuItem.objects.get(name='Chocolate Lava Cake')\n",
    "coffeemenu = MenuItem.objects.get(name='Coffee')\n",
    "\n",
    "orderitem1 = OrderItem.objects.create(\n",
    "    order=order,\n",
    "    menu_item=pizzamenu\n",
    ")\n",
    "\n",
    "orderitem2 = OrderItem.objects.create(\n",
    "    order=order,\n",
    "    menu_item=saladmenu\n",
    ")\n",
    "\n",
    "orderitem3 = OrderItem.objects.create(\n",
    "    order=order,\n",
    "    menu_item=cakemenu\n",
    ")\n",
    "\n",
    "orderitem4 = OrderItem.objects.create(\n",
    "    order=order,\n",
    "    menu_item=coffeemenu\n",
    ")\n"
   ]
  },
  {
   "cell_type": "code",
   "execution_count": 16,
   "metadata": {},
   "outputs": [
    {
     "name": "stdout",
     "output_type": "stream",
     "text": [
      "CUST: Stephen Curry, ORDER DATE: 2025-08-28 07:54\n",
      "- Margherita Pizza: 1\n",
      "- Caesar Salad: 1\n",
      "- Chocolate Lava Cake: 1\n",
      "- Coffee: 1\n"
     ]
    }
   ],
   "source": [
    "# CHECK RESULTS (ห้ามลบ/แก้ไข)\n",
    "order = Order.objects.get(customer__first_name=\"Stephen\")\n",
    "print(f\"CUST: {order.customer}, ORDER DATE: {order.order_date.strftime(format='%Y-%m-%d %H:%M')}\")\n",
    "for order_item in order.orderitem_set.all():\n",
    "    print(f\"- {order_item.menu_item.name}: {order_item.quantity}\")"
   ]
  },
  {
   "cell_type": "markdown",
   "metadata": {},
   "source": [
    "1.7 ต่อเนื่องจากข้อ 1.6 คุณ Stephen Curry มีการขอแก้ไข `Order` ที่สั่งไปจาก 'Coffee' 1 ที่ เป็น 'Lemonade' 2 ที่ และยกเลิกรายการ 'Chocolate Lava Cake' (1 คะแนน)"
   ]
  },
  {
   "cell_type": "code",
   "execution_count": null,
   "metadata": {},
   "outputs": [],
   "source": [
    "# CODE HERE\n",
    "editorder = OrderItem.objects.get(\n",
    "    order__customer__first_name=\"Stephen\", \n",
    "    order__customer__last_name='Curry', \n",
    "    menu_item__name='Coffee'\n",
    ")\n",
    "\n",
    "editorder.quantity = 1\n",
    "lemonade = MenuItem.objects.get(name='Lemonade')\n",
    "editorder.menu_item = lemonade\n",
    "\n",
    "editorder.menu_item.name\n",
    "editorder.quantity\n",
    "\n",
    "editorder.save()\n",
    "\n",
    "editorder2 = OrderItem.objects.get(\n",
    "    order__customer__first_name=\"Stephen\", \n",
    "    order__customer__last_name='Curry', \n",
    "    menu_item__name='Chocolate Lava Cake'\n",
    ").delete()"
   ]
  },
  {
   "cell_type": "code",
   "execution_count": 28,
   "metadata": {},
   "outputs": [
    {
     "name": "stdout",
     "output_type": "stream",
     "text": [
      "CUST: Stephen Curry, ORDER DATE: 2025-08-28 07:54\n",
      "- Margherita Pizza: 1\n",
      "- Caesar Salad: 1\n",
      "- Lemonade: 1\n"
     ]
    }
   ],
   "source": [
    "# CHECK RESULTS (ห้ามลบ/แก้ไข)\n",
    "order = Order.objects.get(customer__first_name=\"Stephen\")\n",
    "print(f\"CUST: {order.customer}, ORDER DATE: {order.order_date.strftime(format='%Y-%m-%d %H:%M')}\")\n",
    "for order_item in order.orderitem_set.all():\n",
    "    print(f\"- {order_item.menu_item.name}: {order_item.quantity}\")"
   ]
  },
  {
   "cell_type": "markdown",
   "metadata": {},
   "source": [
    "1.8 จากนั้นคุณ Stephen Curry ทำการเรียกชำระเงินออเดอร์ในข้อ 1.7 และมีการให้ทิป 2.00 USD จงทำการสร้างข้อมูลใน `Payment` (`payment_method` เป็น QR) (2 คะแนน)\n",
    "\n",
    "*หมายเหตุ 1: Payment.amount จะเป็นยอดชำระสุทธิ ค่าอาหาร เครื่องดื่มทั้งหมด + ค่าทิป*\n",
    "\n",
    "*หมายเหตุ 2: การคำนวณยอดรวมให้คำนวณโดยใช้ aggregation `Sum` ที่คำนวณจาก `OrderItem` ... ห้ามบวกลบยอดเงินเองข้างนอก*"
   ]
  },
  {
   "cell_type": "code",
   "execution_count": 41,
   "metadata": {},
   "outputs": [
    {
     "name": "stdout",
     "output_type": "stream",
     "text": [
      "20.47\n"
     ]
    }
   ],
   "source": [
    "# CODE HERE\n",
    "stephen = Order.objects.get(customer__first_name='Stephen', customer__last_name='Curry')\n",
    "\n",
    "totalOrderItem1 = OrderItem.objects.filter(order=stephen)\n",
    "\n",
    "# totalOrderItem1\n",
    "\n",
    "total = 0\n",
    "for i in totalOrderItem1:\n",
    "    total += i.menu_item.price\n",
    "    \n",
    "# print(total)\n",
    "    \n",
    "payment = Payment.objects.create(\n",
    "    order=stephen,\n",
    "    tip=2,\n",
    "    amount=total+2\n",
    ")\n",
    "\n"
   ]
  },
  {
   "cell_type": "code",
   "execution_count": 42,
   "metadata": {},
   "outputs": [
    {
     "name": "stdout",
     "output_type": "stream",
     "text": [
      "PAYMENT DATE: 2025-08-28 08:24:19.225586+00:00, TIP: 2.00, AMOUNT: 22.47, METHOD: CASH\n"
     ]
    }
   ],
   "source": [
    "# CHECK RESULTS (ห้ามลบ/แก้ไข)\n",
    "order = Order.objects.get(customer__first_name=\"Stephen\")\n",
    "payment = order.payment\n",
    "print(f\"PAYMENT DATE: {payment.payment_date}, TIP: {payment.tip}, AMOUNT: {payment.amount}, METHOD: {payment.payment_method}\")"
   ]
  },
  {
   "cell_type": "markdown",
   "metadata": {},
   "source": [
    "1.9 ให้ค้นหาออเดอร์ (`Order`) ของเดือน 9 ปี 2025 และให้ปรับสถานะเป็น False ทั้งหมด (1 คะแนน)"
   ]
  },
  {
   "cell_type": "code",
   "execution_count": 48,
   "metadata": {
    "scrolled": true
   },
   "outputs": [
    {
     "data": {
      "text/plain": [
       "<QuerySet [{'id': 9, 'customer_id': 1, 'order_date': datetime.datetime(2025, 9, 1, 5, 15, tzinfo=datetime.timezone.utc), 'is_completed': False}, {'id': 10, 'customer_id': 2, 'order_date': datetime.datetime(2025, 9, 3, 13, 0, tzinfo=datetime.timezone.utc), 'is_completed': True}, {'id': 17, 'customer_id': 2, 'order_date': datetime.datetime(2025, 9, 10, 4, 15, tzinfo=datetime.timezone.utc), 'is_completed': False}, {'id': 18, 'customer_id': 4, 'order_date': datetime.datetime(2025, 9, 15, 12, 0, tzinfo=datetime.timezone.utc), 'is_completed': True}, {'id': 19, 'customer_id': 1, 'order_date': datetime.datetime(2025, 9, 20, 9, 30, tzinfo=datetime.timezone.utc), 'is_completed': False}]>"
      ]
     },
     "execution_count": 48,
     "metadata": {},
     "output_type": "execute_result"
    }
   ],
   "source": [
    "# CODE HERE - Filter ออเดอร์ของเดือน 9 ปี 2025\n",
    "ordermonth9 = Order.objects.filter(order_date__month=9, order_date__year=2025)\n",
    "ordermonth9.values()\n"
   ]
  },
  {
   "cell_type": "code",
   "execution_count": 54,
   "metadata": {},
   "outputs": [],
   "source": [
    "# CODE HERE - Update `is_completed` = False\n",
    "ordermonth9 = ordermonth9.filter(is_completed=True)\n",
    "ordermonth9.values()\n",
    "\n",
    "for i in ordermonth9:\n",
    "    i.is_completed=False\n",
    "    i.save()\n",
    "\n",
    "ordermonth9.values()\n",
    "\n",
    "sep_orders = Order.objects.filter(order_date__month=9, order_date__year=2025)\n"
   ]
  },
  {
   "cell_type": "code",
   "execution_count": 55,
   "metadata": {},
   "outputs": [
    {
     "name": "stdout",
     "output_type": "stream",
     "text": [
      "CUST: John Doe, DATE: 2025-09-01, IS COMPLETED?: False\n",
      "CUST: Jane Smith, DATE: 2025-09-10, IS COMPLETED?: False\n",
      "CUST: John Doe, DATE: 2025-09-20, IS COMPLETED?: False\n",
      "CUST: Jane Smith, DATE: 2025-09-03, IS COMPLETED?: False\n",
      "CUST: Bob Williams, DATE: 2025-09-15, IS COMPLETED?: False\n"
     ]
    }
   ],
   "source": [
    "# CHECK RESULTS (ห้ามลบ/แก้ไข)\n",
    "# ให้ตั้งชื่อตัวแปรที่เก็บข้อมูลออเดอร์ของเดือน 9 ปี 2025 ชื่อว่า sep_orders\n",
    "for order in sep_orders:\n",
    "    print(f\"CUST: {order.customer}, DATE: {order.order_date.strftime(format='%Y-%m-%d')}, IS COMPLETED?: {bool(order.is_completed)}\")"
   ]
  },
  {
   "cell_type": "markdown",
   "metadata": {},
   "source": [
    "# 2. Making Queries\n",
    "\n",
    "*สำหรับ PART 2 - ให้ทำการ reset DB และ import ข้อมูลใน order-2.sql เข้าไปใหม่*"
   ]
  },
  {
   "cell_type": "markdown",
   "metadata": {},
   "source": [
    "2.1 แสดงรายการออเดอร์ (`Order`) และจำนวนจานของอาหาร/เครื่องดื่มที่สั่ง (`OrderItem.quantity`) ทั้งหมดของคุณ 'John Doe' เรียนจากจำนวนจากจากมาก-น้อย (1 คะแนน)\n",
    "\n",
    "**Expected Output**\n",
    "\n",
    "```text\n",
    "ORDER ID: 17, CUSTOMER: John Doe, QUANTITY: 9\n",
    "ORDER ID: 24, CUSTOMER: John Doe, QUANTITY: 8\n",
    "ORDER ID: 30, CUSTOMER: John Doe, QUANTITY: 4\n",
    "ORDER ID: 29, CUSTOMER: John Doe, QUANTITY: 3\n",
    "ORDER ID: 1, CUSTOMER: John Doe, QUANTITY: 3\n",
    "ORDER ID: 11, CUSTOMER: John Doe, QUANTITY: 2\n",
    "```"
   ]
  },
  {
   "cell_type": "code",
   "execution_count": 23,
   "metadata": {},
   "outputs": [
    {
     "name": "stdout",
     "output_type": "stream",
     "text": [
      "ORDER ID: 17, CUSTOMER: John Doe, QUANTITY: 9\n",
      "ORDER ID: 24, CUSTOMER: John Doe, QUANTITY: 8\n",
      "ORDER ID: 30, CUSTOMER: John Doe, QUANTITY: 4\n",
      "ORDER ID: 1, CUSTOMER: John Doe, QUANTITY: 3\n",
      "ORDER ID: 29, CUSTOMER: John Doe, QUANTITY: 3\n",
      "ORDER ID: 11, CUSTOMER: John Doe, QUANTITY: 2\n"
     ]
    }
   ],
   "source": [
    "# CODE HERE\n",
    "from django.db.models import Avg, Sum, Count, Q, F\n",
    "\n",
    "order21 = Order.objects.filter(\n",
    "    customer__first_name='John', customer__last_name='Doe'\n",
    ").distinct().annotate(quantity=Sum('orderitem__quantity')).order_by('-quantity')\n",
    "\n",
    "order21\n",
    "for i in order21:\n",
    "    print(f'ORDER ID: {i.id}, CUSTOMER: {i.customer}, QUANTITY: {i.quantity}')"
   ]
  },
  {
   "cell_type": "markdown",
   "metadata": {},
   "source": [
    "2.2 ให้หาจำนวนออเดอร์ (`Order`) ที่มีรายการอาหาร (`OrderItem`) มากกว่า 1 รายการขึ้นไป และสั่ง 'Cheeseburger' (1 คะแนน)\n",
    "\n",
    "**Expected Output**\n",
    "\n",
    "รายการออเดอร์มีมากกว่า 1 รายการและสั่ง Cheeseburger มี 4 ออเดอร์"
   ]
  },
  {
   "cell_type": "code",
   "execution_count": 25,
   "metadata": {},
   "outputs": [
    {
     "data": {
      "text/plain": [
       "<QuerySet [{'id': 2, 'customer_id': 4, 'order_date': datetime.datetime(2025, 6, 1, 2, 13, tzinfo=datetime.timezone.utc), 'is_completed': True}, {'id': 13, 'customer_id': 3, 'order_date': datetime.datetime(2025, 7, 1, 2, 59, tzinfo=datetime.timezone.utc), 'is_completed': False}, {'id': 21, 'customer_id': 2, 'order_date': datetime.datetime(2025, 6, 14, 8, 30, tzinfo=datetime.timezone.utc), 'is_completed': True}, {'id': 24, 'customer_id': 1, 'order_date': datetime.datetime(2025, 8, 28, 4, 25, tzinfo=datetime.timezone.utc), 'is_completed': True}]>"
      ]
     },
     "execution_count": 25,
     "metadata": {},
     "output_type": "execute_result"
    }
   ],
   "source": [
    "# CODE HERE\n",
    "############################### เดี๋ยวกลับมานะ\n",
    "# order22 = Order.objects.filter(orderitem__menu_item__name= 'Cheeseburger')\n",
    "\n",
    "# order22.values()"
   ]
  },
  {
   "cell_type": "markdown",
   "metadata": {},
   "source": [
    "2.3 ให้แสดงรายชือลูกค้า (`Customer`) โดยเรียงจาก ลูกค้าที่ยอดใช้จ่ายกับทางร้านมาก - น้อย (1 คะแนน)\n",
    "\n",
    "*Hint: ยอดใช้จ่ายให้คำนวณจาก `Payment.amount`*\n",
    "\n",
    "**Expected Output**\n",
    "\n",
    "```text\n",
    "CUSTOMER: Alice Johnson, TOTAL SPENDING: 325.47\n",
    "CUSTOMER: John Doe, TOTAL SPENDING: 258.75\n",
    "CUSTOMER: Jane Smith, TOTAL SPENDING: 258.08\n",
    "CUSTOMER: Bob Brown, TOTAL SPENDING: 171.68\n",
    "CUSTOMER: Carol Davis, TOTAL SPENDING: 137.33\n",
    "```"
   ]
  },
  {
   "cell_type": "code",
   "execution_count": 37,
   "metadata": {},
   "outputs": [
    {
     "name": "stdout",
     "output_type": "stream",
     "text": [
      "CUSTOMER: Alice Johnson, TOTAL SPENDING: 325.47\n",
      "CUSTOMER: John Doe, TOTAL SPENDING: 258.75\n",
      "CUSTOMER: Jane Smith, TOTAL SPENDING: 258.08\n",
      "CUSTOMER: Bob Brown, TOTAL SPENDING: 171.68\n",
      "CUSTOMER: Carol Davis, TOTAL SPENDING: 137.33\n"
     ]
    }
   ],
   "source": [
    "# CODE HERE\n",
    "topspend = Customer.objects.all().annotate(top=Sum('order__payment__amount')).order_by('-top')\n",
    "\n",
    "for o in topspend:\n",
    "    print(f'CUSTOMER: {o}, TOTAL SPENDING: {o.top}')\n"
   ]
  },
  {
   "cell_type": "markdown",
   "metadata": {},
   "source": [
    "2.4 ให้แสดงเมนูอาหาร (`MenuItem`) ทั้งหมดของร้าน พร้อมทั้ง (`MainIngredient`) (1 คะแนน)\n",
    "\n",
    "**Expected Output**\n",
    "\n",
    "```text\n",
    "MENU: Cheeseburger, INGREDIENTS: Beef, Cheddar Cheese\n",
    "MENU: Vegan Salad, INGREDIENTS: Tomato, Lettuce\n",
    "MENU: Spaghetti Bolognese, INGREDIENTS: Beef, Mozzarella\n",
    "MENU: Grilled Chicken, INGREDIENTS: Chicken Breast\n",
    "MENU: Pizza Margherita, INGREDIENTS: Tomato, Mozzarella\n",
    "MENU: Caesar Salad, INGREDIENTS: Lettuce\n",
    "MENU: Fish & Chips, INGREDIENTS: Beef\n",
    "MENU: Pancakes, INGREDIENTS: Lettuce\n",
    "MENU: Taco Plate, INGREDIENTS: Beef, Rice\n",
    "MENU: Ice Cream Sundae, INGREDIENTS: Cheddar Cheese, Flour\n",
    "```"
   ]
  },
  {
   "cell_type": "code",
   "execution_count": 51,
   "metadata": {},
   "outputs": [
    {
     "name": "stdout",
     "output_type": "stream",
     "text": [
      "MENU: Cheeseburger, INGREDIENTS: Beef\n",
      "MENU: Cheeseburger, INGREDIENTS: Cheddar Cheese\n",
      "MENU: Vegan Salad, INGREDIENTS: Tomato\n",
      "MENU: Vegan Salad, INGREDIENTS: Lettuce\n",
      "MENU: Spaghetti Bolognese, INGREDIENTS: Beef\n",
      "MENU: Spaghetti Bolognese, INGREDIENTS: Mozzarella\n",
      "MENU: Grilled Chicken, INGREDIENTS: Chicken Breast\n",
      "MENU: Pizza Margherita, INGREDIENTS: Tomato\n",
      "MENU: Pizza Margherita, INGREDIENTS: Mozzarella\n",
      "MENU: Caesar Salad, INGREDIENTS: Lettuce\n",
      "MENU: Fish & Chips, INGREDIENTS: Beef\n",
      "MENU: Pancakes, INGREDIENTS: Lettuce\n",
      "MENU: Taco Plate, INGREDIENTS: Beef\n",
      "MENU: Taco Plate, INGREDIENTS: Rice\n",
      "MENU: Ice Cream Sundae, INGREDIENTS: Cheddar Cheese\n",
      "MENU: Ice Cream Sundae, INGREDIENTS: Flour\n"
     ]
    }
   ],
   "source": [
    "# CODE HERE\n",
    "allmenuitem = MenuItem.objects.all().annotate(mi=F('mainingredient__name'))\n",
    "# allmenuitem = MenuItem.objects.all()\n",
    "\n",
    "allmenuitem\n",
    "for i in allmenuitem:\n",
    "    print(f'MENU: {i.name}, INGREDIENTS: {i.mi}')\n"
   ]
  },
  {
   "cell_type": "markdown",
   "metadata": {},
   "source": [
    "2.5 แสดงเมนูอาหาร (`MenuItem`) ที่มีราคามากกว่า 10 USD หรือ มีคำว่า \"Fresh\" ในรายละเอียดของส่วนประกอบ (`MainIngredient.description`) (1 คะแนน)\n",
    "\n",
    "**Expected Output**\n",
    "\n",
    "```text\n",
    "MENU: Pizza Margherita, DESCRIPTION: Tomato and mozzarella pizza.\n",
    "MENU: Vegan Salad, DESCRIPTION: Fresh mixed greens with seasonal vegetables.\n",
    "MENU: Fish & Chips, DESCRIPTION: Crispy fried fish with fries.\n",
    "```"
   ]
  },
  {
   "cell_type": "code",
   "execution_count": 65,
   "metadata": {},
   "outputs": [
    {
     "name": "stdout",
     "output_type": "stream",
     "text": [
      "MENU: Vegan Salad, DESCRIPTION: Fresh mixed greens with seasonal vegetables.\n",
      "MENU: Pizza Margherita, DESCRIPTION: Tomato and mozzarella pizza.\n",
      "MENU: Pizza Margherita, DESCRIPTION: Tomato and mozzarella pizza.\n",
      "MENU: Fish & Chips, DESCRIPTION: Crispy fried fish with fries.\n"
     ]
    }
   ],
   "source": [
    "# CODE HERE\n",
    "menuitem25 = MenuItem.objects.filter(Q(price__gt=10) | Q(mainingredient__description__icontains='Fresh'))\n",
    "\n",
    "# menuitem25\n",
    "for i in menuitem25:\n",
    "    print(f'MENU: {i}, DESCRIPTION: {i.description}')"
   ]
  },
  {
   "cell_type": "markdown",
   "metadata": {},
   "source": [
    "2.6 แสดงเมนูอาหารที่มียอดขาย (ดูจาก `OrderItem.quantity` * `MenuItem.price`) สูงสุด 3 ลำดับแรก เรียงจากมาก - น้อย (1 คะแนน)\n",
    "\n",
    "**Expected Output**\n",
    "\n",
    "```text\n",
    "MENU: Grilled Chicken, SALES: 195.00\n",
    "MENU: Vegan Salad, SALES: 149.50\n",
    "MENU: Pizza Margherita, SALES: 143.00\n",
    "```"
   ]
  },
  {
   "cell_type": "code",
   "execution_count": 79,
   "metadata": {},
   "outputs": [
    {
     "name": "stdout",
     "output_type": "stream",
     "text": [
      "Fish & Chips 39.00\n",
      "Spaghetti Bolognese 30.00\n",
      "Grilled Chicken 29.25\n"
     ]
    }
   ],
   "source": [
    "# CODE HERE\n",
    "# bestseller = OrderItem.objects.annotate(d=F('quantity')*F('menu_item__price')).order_by('-d')[:3]\n",
    "# น่าจะต้องเอา orderitem ไป countไหม ไม่รู้ เดี๋ยวกลับมา\n",
    "\n",
    "bestseller = MenuItem.objects.annotate(d=F('orderitem__quantity')*F('price')).order_by('-d')[:3]\n",
    "\n",
    "for i in bestseller:\n",
    "    print(f'{i} {i.d}')"
   ]
  },
  {
   "cell_type": "markdown",
   "metadata": {},
   "source": [
    "2.7 แสดงจำนวนทิป (`Payment.tip`) ที่ได้รับสำหรับการชำระเงินในแต่ละวิธี (`Payment.payment_method`) เรียงลำดับตามจำนวนทิปมาก - น้อย (1 คะแนน)\n",
    "\n",
    "*Hint: ให้ทำ annotate/aggregate ค่าทิป โดย group by ด้วย `Payment.payment_method`*\n",
    "\n",
    "**Expected Output**\n",
    "\n",
    "```text\n",
    "MONTH: CASH, TOTAL TIP: 31.05\n",
    "MONTH: CREDIT, TOTAL TIP: 25.58\n",
    "MONTH: QR, TOTAL TIP: 21.79\n",
    "```"
   ]
  },
  {
   "cell_type": "code",
   "execution_count": 14,
   "metadata": {},
   "outputs": [
    {
     "ename": "TypeError",
     "evalue": "QuerySet.annotate() received non-expression(s): payment_method.",
     "output_type": "error",
     "traceback": [
      "\u001b[1;31m---------------------------------------------------------------------------\u001b[0m",
      "\u001b[1;31mTypeError\u001b[0m                                 Traceback (most recent call last)",
      "Cell \u001b[1;32mIn[14], line 2\u001b[0m\n\u001b[0;32m      1\u001b[0m \u001b[38;5;66;03m# CODE HERE\u001b[39;00m\n\u001b[1;32m----> 2\u001b[0m test \u001b[38;5;241m=\u001b[39m \u001b[43mPayment\u001b[49m\u001b[38;5;241;43m.\u001b[39;49m\u001b[43mobjects\u001b[49m\u001b[38;5;241;43m.\u001b[39;49m\u001b[43mannotate\u001b[49m\u001b[43m(\u001b[49m\u001b[43mpayments\u001b[49m\u001b[38;5;241;43m=\u001b[39;49m\u001b[43m(\u001b[49m\u001b[38;5;124;43m'\u001b[39;49m\u001b[38;5;124;43mpayment_method\u001b[39;49m\u001b[38;5;124;43m'\u001b[39;49m\u001b[43m)\u001b[49m\u001b[43m)\u001b[49m\n\u001b[0;32m      4\u001b[0m test\n\u001b[0;32m      5\u001b[0m \u001b[38;5;66;03m# tip = Payment.objects.annotate(tips=Sum('tip')).values(\u001b[39;00m\n\u001b[0;32m      6\u001b[0m \u001b[38;5;66;03m#     'payment_method'\u001b[39;00m\n\u001b[0;32m      7\u001b[0m \u001b[38;5;66;03m# )\u001b[39;00m\n\u001b[0;32m      8\u001b[0m \n\u001b[0;32m      9\u001b[0m \u001b[38;5;66;03m# for i in tip:\u001b[39;00m\n\u001b[0;32m     10\u001b[0m \u001b[38;5;66;03m#     print(f'{i}')\u001b[39;00m\n",
      "File \u001b[1;32m~\\Desktop\\66070286\\real exam\\myvenv\\Lib\\site-packages\\django\\db\\models\\manager.py:87\u001b[0m, in \u001b[0;36mBaseManager._get_queryset_methods.<locals>.create_method.<locals>.manager_method\u001b[1;34m(self, *args, **kwargs)\u001b[0m\n\u001b[0;32m     85\u001b[0m \u001b[38;5;129m@wraps\u001b[39m(method)\n\u001b[0;32m     86\u001b[0m \u001b[38;5;28;01mdef\u001b[39;00m\u001b[38;5;250m \u001b[39m\u001b[38;5;21mmanager_method\u001b[39m(\u001b[38;5;28mself\u001b[39m, \u001b[38;5;241m*\u001b[39margs, \u001b[38;5;241m*\u001b[39m\u001b[38;5;241m*\u001b[39mkwargs):\n\u001b[1;32m---> 87\u001b[0m     \u001b[38;5;28;01mreturn\u001b[39;00m \u001b[38;5;28;43mgetattr\u001b[39;49m\u001b[43m(\u001b[49m\u001b[38;5;28;43mself\u001b[39;49m\u001b[38;5;241;43m.\u001b[39;49m\u001b[43mget_queryset\u001b[49m\u001b[43m(\u001b[49m\u001b[43m)\u001b[49m\u001b[43m,\u001b[49m\u001b[43m \u001b[49m\u001b[43mname\u001b[49m\u001b[43m)\u001b[49m\u001b[43m(\u001b[49m\u001b[38;5;241;43m*\u001b[39;49m\u001b[43margs\u001b[49m\u001b[43m,\u001b[49m\u001b[43m \u001b[49m\u001b[38;5;241;43m*\u001b[39;49m\u001b[38;5;241;43m*\u001b[39;49m\u001b[43mkwargs\u001b[49m\u001b[43m)\u001b[49m\n",
      "File \u001b[1;32m~\\Desktop\\66070286\\real exam\\myvenv\\Lib\\site-packages\\django\\db\\models\\query.py:1649\u001b[0m, in \u001b[0;36mQuerySet.annotate\u001b[1;34m(self, *args, **kwargs)\u001b[0m\n\u001b[0;32m   1644\u001b[0m \u001b[38;5;250m\u001b[39m\u001b[38;5;124;03m\"\"\"\u001b[39;00m\n\u001b[0;32m   1645\u001b[0m \u001b[38;5;124;03mReturn a query set in which the returned objects have been annotated\u001b[39;00m\n\u001b[0;32m   1646\u001b[0m \u001b[38;5;124;03mwith extra data or aggregations.\u001b[39;00m\n\u001b[0;32m   1647\u001b[0m \u001b[38;5;124;03m\"\"\"\u001b[39;00m\n\u001b[0;32m   1648\u001b[0m \u001b[38;5;28mself\u001b[39m\u001b[38;5;241m.\u001b[39m_not_support_combined_queries(\u001b[38;5;124m\"\u001b[39m\u001b[38;5;124mannotate\u001b[39m\u001b[38;5;124m\"\u001b[39m)\n\u001b[1;32m-> 1649\u001b[0m \u001b[38;5;28;01mreturn\u001b[39;00m \u001b[38;5;28;43mself\u001b[39;49m\u001b[38;5;241;43m.\u001b[39;49m\u001b[43m_annotate\u001b[49m\u001b[43m(\u001b[49m\u001b[43margs\u001b[49m\u001b[43m,\u001b[49m\u001b[43m \u001b[49m\u001b[43mkwargs\u001b[49m\u001b[43m,\u001b[49m\u001b[43m \u001b[49m\u001b[43mselect\u001b[49m\u001b[38;5;241;43m=\u001b[39;49m\u001b[38;5;28;43;01mTrue\u001b[39;49;00m\u001b[43m)\u001b[49m\n",
      "File \u001b[1;32m~\\Desktop\\66070286\\real exam\\myvenv\\Lib\\site-packages\\django\\db\\models\\query.py:1659\u001b[0m, in \u001b[0;36mQuerySet._annotate\u001b[1;34m(self, args, kwargs, select)\u001b[0m\n\u001b[0;32m   1658\u001b[0m \u001b[38;5;28;01mdef\u001b[39;00m\u001b[38;5;250m \u001b[39m\u001b[38;5;21m_annotate\u001b[39m(\u001b[38;5;28mself\u001b[39m, args, kwargs, select\u001b[38;5;241m=\u001b[39m\u001b[38;5;28;01mTrue\u001b[39;00m):\n\u001b[1;32m-> 1659\u001b[0m     \u001b[38;5;28;43mself\u001b[39;49m\u001b[38;5;241;43m.\u001b[39;49m\u001b[43m_validate_values_are_expressions\u001b[49m\u001b[43m(\u001b[49m\n\u001b[0;32m   1660\u001b[0m \u001b[43m        \u001b[49m\u001b[43margs\u001b[49m\u001b[43m \u001b[49m\u001b[38;5;241;43m+\u001b[39;49m\u001b[43m \u001b[49m\u001b[38;5;28;43mtuple\u001b[39;49m\u001b[43m(\u001b[49m\u001b[43mkwargs\u001b[49m\u001b[38;5;241;43m.\u001b[39;49m\u001b[43mvalues\u001b[49m\u001b[43m(\u001b[49m\u001b[43m)\u001b[49m\u001b[43m)\u001b[49m\u001b[43m,\u001b[49m\u001b[43m \u001b[49m\u001b[43mmethod_name\u001b[49m\u001b[38;5;241;43m=\u001b[39;49m\u001b[38;5;124;43m\"\u001b[39;49m\u001b[38;5;124;43mannotate\u001b[39;49m\u001b[38;5;124;43m\"\u001b[39;49m\n\u001b[0;32m   1661\u001b[0m \u001b[43m    \u001b[49m\u001b[43m)\u001b[49m\n\u001b[0;32m   1662\u001b[0m     annotations \u001b[38;5;241m=\u001b[39m {}\n\u001b[0;32m   1663\u001b[0m     \u001b[38;5;28;01mfor\u001b[39;00m arg \u001b[38;5;129;01min\u001b[39;00m args:\n\u001b[0;32m   1664\u001b[0m         \u001b[38;5;66;03m# The default_alias property raises TypeError if default_alias\u001b[39;00m\n\u001b[0;32m   1665\u001b[0m         \u001b[38;5;66;03m# can't be set automatically or AttributeError if it isn't an\u001b[39;00m\n\u001b[0;32m   1666\u001b[0m         \u001b[38;5;66;03m# attribute.\u001b[39;00m\n",
      "File \u001b[1;32m~\\Desktop\\66070286\\real exam\\myvenv\\Lib\\site-packages\\django\\db\\models\\query.py:2014\u001b[0m, in \u001b[0;36mQuerySet._validate_values_are_expressions\u001b[1;34m(values, method_name)\u001b[0m\n\u001b[0;32m   2010\u001b[0m invalid_args \u001b[38;5;241m=\u001b[39m \u001b[38;5;28msorted\u001b[39m(\n\u001b[0;32m   2011\u001b[0m     \u001b[38;5;28mstr\u001b[39m(arg) \u001b[38;5;28;01mfor\u001b[39;00m arg \u001b[38;5;129;01min\u001b[39;00m values \u001b[38;5;28;01mif\u001b[39;00m \u001b[38;5;129;01mnot\u001b[39;00m \u001b[38;5;28mhasattr\u001b[39m(arg, \u001b[38;5;124m\"\u001b[39m\u001b[38;5;124mresolve_expression\u001b[39m\u001b[38;5;124m\"\u001b[39m)\n\u001b[0;32m   2012\u001b[0m )\n\u001b[0;32m   2013\u001b[0m \u001b[38;5;28;01mif\u001b[39;00m invalid_args:\n\u001b[1;32m-> 2014\u001b[0m     \u001b[38;5;28;01mraise\u001b[39;00m \u001b[38;5;167;01mTypeError\u001b[39;00m(\n\u001b[0;32m   2015\u001b[0m         \u001b[38;5;124m\"\u001b[39m\u001b[38;5;124mQuerySet.\u001b[39m\u001b[38;5;132;01m%s\u001b[39;00m\u001b[38;5;124m() received non-expression(s): \u001b[39m\u001b[38;5;132;01m%s\u001b[39;00m\u001b[38;5;124m.\u001b[39m\u001b[38;5;124m\"\u001b[39m\n\u001b[0;32m   2016\u001b[0m         \u001b[38;5;241m%\u001b[39m (\n\u001b[0;32m   2017\u001b[0m             method_name,\n\u001b[0;32m   2018\u001b[0m             \u001b[38;5;124m\"\u001b[39m\u001b[38;5;124m, \u001b[39m\u001b[38;5;124m\"\u001b[39m\u001b[38;5;241m.\u001b[39mjoin(invalid_args),\n\u001b[0;32m   2019\u001b[0m         )\n\u001b[0;32m   2020\u001b[0m     )\n",
      "\u001b[1;31mTypeError\u001b[0m: QuerySet.annotate() received non-expression(s): payment_method."
     ]
    }
   ],
   "source": [
    "# CODE HERE\n",
    "# tip = Payment.objects.annotate(tips=Sum('tip')).values(\n",
    "#     'payment_method'\n",
    "# )\n",
    "\n",
    "# for i in tip:\n",
    "#     print(f'{i}')\n"
   ]
  },
  {
   "cell_type": "markdown",
   "metadata": {},
   "source": [
    "2.8 แสดงรายชื่อลูกค้า (`Customer`) ทั้งหมด โดยแสดงข้อมูลวันที่เข้าใช้บริการล่าสุด (`Order.order_date`) (โดยนับเฉพาะออเดอร์ที่สมบูรณ์แล้ว - `Order.is_completed` = True) (2 คะแนน)\n",
    "\n",
    "*Hint: จะต้องใช้ Subquery*\n",
    "\n",
    "**Expected Output**\n",
    "\n",
    "```text\n",
    "CUSTOMER: John Doe, LASTEST VISIT: 2025-08-28 04:25\n",
    "CUSTOMER: Jane Smith, LASTEST VISIT: 2025-08-03 01:42\n",
    "CUSTOMER: Alice Johnson, LASTEST VISIT: 2025-08-26 11:33\n",
    "CUSTOMER: Bob Brown, LASTEST VISIT: 2025-08-19 02:04\n",
    "CUSTOMER: Carol Davis, LASTEST VISIT: 2025-07-26 01:48\n",
    "```"
   ]
  },
  {
   "cell_type": "code",
   "execution_count": null,
   "metadata": {},
   "outputs": [],
   "source": [
    "from django.db.models import OuterRef, Subquery\n",
    "# CODE HERE\n"
   ]
  },
  {
   "cell_type": "markdown",
   "metadata": {},
   "source": [
    "2.9 แสดงข้อมูลสำหรับการออกใบเสร็จรับเงินของ payment ที่ ID = 10 โดยจัดรูปแบบดังตัวอย่าง (1 คะแนน)\n",
    "\n",
    "*Hint: สร้างเป็น dict เองได้เลยนะครับ ทำง่ายๆ ไม่ต้องยาก แค่เอาค่ามาแสดงให้ถูกต้อง*\n",
    "\n",
    "**Example Output (ตัวอย่างนี้ไม่ใช่ผลลัพธ์ของ payment ID 10 นะครับ)**\n",
    "\n",
    "```python\n",
    "{\n",
    "    \"customer\": \"John Doe\",\n",
    "    \"email\": \"john.doe@example.com\",\n",
    "    \"phone_number\": \"083-456-7890\",\n",
    "    \"payment_method\": \"QR Promtpay\",\n",
    "    \"tip\": 2.00,\n",
    "    \"amount\": 27.48,\n",
    "    \"payment_date\": \"2025-01-10\",\n",
    "    \"payment_time\": \"11:30\",\n",
    "    \"duration\": \"60\" # จำนวนนาที โดยคิดจาก payment.payment_date - order.order_date (เศษวินาทีปัดทิ้งเลย)\n",
    "    \"order_items\": [\n",
    "        {\n",
    "            \"name\": \"Cheeseburger\",\n",
    "            \"description\": None,\n",
    "            \"quantity\": 2,\n",
    "            \"price\": 8.99\n",
    "        },\n",
    "        {\n",
    "            \"name\": \"Caesar Salad\",\n",
    "            \"description\": None,\n",
    "            \"quantity\": 1,\n",
    "            \"price\": 7.5\n",
    "        },\n",
    "    ]\n",
    "}\n",
    "```"
   ]
  },
  {
   "cell_type": "code",
   "execution_count": null,
   "metadata": {},
   "outputs": [],
   "source": [
    "# CODE HERE\n"
   ]
  }
 ],
 "metadata": {
  "kernelspec": {
   "display_name": "Django Shell-Plus",
   "language": "python",
   "name": "django_extensions"
  },
  "language_info": {
   "codemirror_mode": {
    "name": "ipython",
    "version": 3
   },
   "file_extension": ".py",
   "mimetype": "text/x-python",
   "name": "python",
   "nbconvert_exporter": "python",
   "pygments_lexer": "ipython3",
   "version": "3.13.3"
  }
 },
 "nbformat": 4,
 "nbformat_minor": 2
}
