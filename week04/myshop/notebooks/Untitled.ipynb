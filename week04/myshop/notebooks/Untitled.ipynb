{
 "cells": [
  {
   "cell_type": "code",
   "execution_count": 1,
   "id": "fbb858d2",
   "metadata": {},
   "outputs": [],
   "source": [
    "import os\n",
    "os.environ[\"DJANGO_ALLOW_ASYNC_UNSAFE\"] = \"true\""
   ]
  },
  {
   "cell_type": "code",
   "execution_count": 2,
   "id": "d05e774c",
   "metadata": {},
   "outputs": [
    {
     "data": {
      "text/plain": [
       "<QuerySet [<Order: Order object (1)>, <Order: Order object (2)>, <Order: Order object (3)>, <Order: Order object (4)>, <Order: Order object (5)>, <Order: Order object (6)>, <Order: Order object (7)>, <Order: Order object (8)>, <Order: Order object (9)>, <Order: Order object (10)>, <Order: Order object (11)>, <Order: Order object (12)>, <Order: Order object (13)>, <Order: Order object (14)>, <Order: Order object (15)>, <Order: Order object (16)>, <Order: Order object (17)>, <Order: Order object (18)>, <Order: Order object (19)>, <Order: Order object (20)>, '...(remaining elements truncated)...']>"
      ]
     },
     "execution_count": 2,
     "metadata": {},
     "output_type": "execute_result"
    }
   ],
   "source": [
    "Order.objects.all()"
   ]
  },
  {
   "cell_type": "code",
   "execution_count": 18,
   "id": "772e31a5",
   "metadata": {},
   "outputs": [
    {
     "name": "stdout",
     "output_type": "stream",
     "text": [
      "ORDER ID: 22 , DATE: 2024-05-01 ,\n",
      "ORDER ID: 23 , DATE: 2024-05-01 ,\n",
      "ORDER ID: 24 , DATE: 2024-05-01 ,\n",
      "ORDER ID: 25 , DATE: 2024-05-02 ,\n",
      "ORDER ID: 26 , DATE: 2024-05-02 ,\n",
      "ORDER ID: 27 , DATE: 2024-05-02 ,\n",
      "ORDER ID: 28 , DATE: 2024-05-03 ,\n",
      "ORDER ID: 29 , DATE: 2024-05-03 ,\n",
      "ORDER ID: 30 , DATE: 2024-05-03 ,\n",
      "ORDER ID: 31 , DATE: 2024-05-04 ,\n"
     ]
    }
   ],
   "source": [
    "from shop.models import Order\n",
    "\n",
    "for order in Order.objects.filter(order_date__month=5)[:10]:\n",
    "    print('ORDER ID:', order.id, ', DATE:',  order.order_date, \",\" , end='')\n",
    "    print()"
   ]
  },
  {
   "cell_type": "code",
   "execution_count": 25,
   "id": "486db18f",
   "metadata": {},
   "outputs": [
    {
     "name": "stdout",
     "output_type": "stream",
     "text": [
      "8\n",
      "16\n",
      "23\n",
      "36\n",
      "63\n",
      "79\n",
      "151\n"
     ]
    }
   ],
   "source": [
    "from shop.models import Order, OrderItem\n",
    "\n",
    "f = Order.objects.filter(orderitem__product__name__contains=\"Dog Bed\")\n",
    "\n",
    "for i in f:\n",
    "    print(\"ORDER ID:\", i.id)"
   ]
  }
 ],
 "metadata": {
  "kernelspec": {
   "display_name": "Django Shell-Plus",
   "language": "python",
   "name": "django_extensions"
  },
  "language_info": {
   "codemirror_mode": {
    "name": "ipython",
    "version": 3
   },
   "file_extension": ".py",
   "mimetype": "text/x-python",
   "name": "python",
   "nbconvert_exporter": "python",
   "pygments_lexer": "ipython3",
   "version": "3.13.0"
  }
 },
 "nbformat": 4,
 "nbformat_minor": 5
}
