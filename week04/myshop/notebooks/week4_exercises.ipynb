{
 "cells": [
  {
   "cell_type": "markdown",
   "metadata": {},
   "source": [
    "# WEEK 4 Exercises - Making Queries\n",
    "\n",
    "![ERD-E-COMMERCE](./images/ERD-week4-exercise.png)"
   ]
  },
  {
   "cell_type": "markdown",
   "metadata": {},
   "source": [
    "## Instruction\n",
    "\n",
    "1. สร้าง `virtual environment`\n",
    "2. ติดตั้ง `django` และ `psycopg2` libraries\n",
    "3. สร้างโปรเจคใหม่ใหม่ชื่อ`myshop`\n",
    "4. จากนั้นให้ทำการ startapp ใหม่ชื่อ `shop`\n",
    "5. สร้าง database ชื่อ `shop` ใน Postgres DB\n",
    "6. ทำการเพิ่ม code ด้านล่างนี้ในไฟล์ `shop/models.py`\n",
    "7. เพิ่ม **'shop'** ใน `settings.py`\n",
    "8. ทำการ `makemigrations` และ `migrate`\n",
    "\n",
    "\n",
    "```python\n",
    "from django.db import models\n",
    "\n",
    "# Create your models here.\n",
    "class Customer(models.Model):\n",
    "    first_name = models.CharField(max_length=150)\n",
    "    last_name = models.CharField(max_length=200)\n",
    "    email = models.CharField(max_length=150)\n",
    "    address = models.JSONField(null=True)\n",
    "\n",
    "class ProductCategory(models.Model):\n",
    "    name = models.CharField(max_length=150)\n",
    "\n",
    "class Product(models.Model):\n",
    "    name = models.CharField(max_length=150)\n",
    "    description = models.TextField(null=True, blank=True)\n",
    "    remaining_amount = models.PositiveIntegerField(default=0)\n",
    "    price = models.DecimalField(max_digits=10, decimal_places=2)\n",
    "    categories = models.ManyToManyField(ProductCategory)\n",
    "\n",
    "class Cart(models.Model):\n",
    "    customer = models.ForeignKey(Customer, on_delete=models.CASCADE)\n",
    "    create_date = models.DateTimeField()\n",
    "    expired_in = models.PositiveIntegerField(default=60)\n",
    "    \n",
    "class CartItem(models.Model):\n",
    "    cart = models.ForeignKey(Cart, on_delete=models.CASCADE)\n",
    "    product = models.ForeignKey(Product, on_delete=models.CASCADE)\n",
    "    amount = models.PositiveIntegerField(default=1)\n",
    "    \n",
    "class Order(models.Model):\n",
    "    customer = models.ForeignKey(Customer, on_delete=models.CASCADE)\n",
    "    order_date = models.DateField()\n",
    "    remark = models.TextField(null=True, blank=True)\n",
    "\n",
    "class OrderItem(models.Model):\n",
    "    order = models.ForeignKey(Order, on_delete=models.CASCADE)\n",
    "    product = models.ForeignKey(Product, on_delete=models.CASCADE)\n",
    "    amount = models.PositiveIntegerField(default=1)\n",
    "    \n",
    "class Payment(models.Model):\n",
    "    order = models.OneToOneField(Order, on_delete=models.PROTECT)\n",
    "    payment_date = models.DateField()\n",
    "    remark = models.TextField(null=True, blank=True)\n",
    "    price = models.DecimalField(max_digits=10, decimal_places=2)\n",
    "    discount = models.DecimalField(max_digits=10, decimal_places=2, default=0)\n",
    "\n",
    "class PaymentItem(models.Model):\n",
    "    payment = models.ForeignKey(Payment, on_delete=models.CASCADE)\n",
    "    order_item = models.OneToOneField(OrderItem, on_delete=models.CASCADE)\n",
    "    price = models.DecimalField(max_digits=10, decimal_places=2)\n",
    "    discount = models.DecimalField(max_digits=10, decimal_places=2, default=0)\n",
    "    \n",
    "class PaymentMethod(models.Model):\n",
    "    class MethodChoices(models.Choices):\n",
    "        QR = \"QR\"\n",
    "        CREDIT = \"CREDIT\"\n",
    "    \n",
    "    payment = models.ForeignKey(Payment, on_delete=models.CASCADE)\n",
    "    method = models.CharField(max_length=15, choices=MethodChoices.choices)\n",
    "    price = models.DecimalField(max_digits=10, decimal_places=2)\n",
    "```\n"
   ]
  },
  {
   "cell_type": "markdown",
   "metadata": {},
   "source": [
    "**จากนั้นให้ทำการ migrate และ run คำสั่งในไฟล์ `shop.sql` ใน PgAdmin4**"
   ]
  },
  {
   "cell_type": "code",
   "execution_count": 1,
   "metadata": {},
   "outputs": [],
   "source": [
    "import os\n",
    "os.environ[\"DJANGO_ALLOW_ASYNC_UNSAFE\"] = \"true\""
   ]
  },
  {
   "cell_type": "markdown",
   "metadata": {},
   "source": [
    "### 1. ให้นักศึกษา Query ค้นหาข้อมูลมาแสดงให้ถูกต้องตามโจทย์\n",
    "\n",
    "1.1 query หาข้อมูล `Order` ทั้งหมดที่เกิดขึ้นในเดือน `พฤษภาคม` มาแสดงผล 10 รายการแรก และแสดงผลดังตัวอย่าง (0.25 คะแนน)\n",
    "\n",
    "```txt\n",
    "ORDER ID:22, DATE: 2024-05-01, \n",
    "ORDER ID:23, DATE: 2024-05-01, \n",
    "ORDER ID:24, DATE: 2024-05-01, \n",
    "ORDER ID:25, DATE: 2024-05-02, \n",
    "ORDER ID:26, DATE: 2024-05-02, \n",
    "ORDER ID:27, DATE: 2024-05-02, \n",
    "ORDER ID:28, DATE: 2024-05-03, \n",
    "ORDER ID:29, DATE: 2024-05-03, \n",
    "ORDER ID:30, DATE: 2024-05-03, \n",
    "ORDER ID:31, DATE: 2024-05-04, \n",
    "```"
   ]
  },
  {
   "cell_type": "code",
   "execution_count": 2,
   "metadata": {},
   "outputs": [
    {
     "data": {
      "text/plain": [
       "<QuerySet [<Order: Order object (1)>, <Order: Order object (2)>, <Order: Order object (3)>, <Order: Order object (4)>, <Order: Order object (5)>, <Order: Order object (6)>, <Order: Order object (7)>, <Order: Order object (8)>, <Order: Order object (9)>, <Order: Order object (10)>, <Order: Order object (11)>, <Order: Order object (12)>, <Order: Order object (13)>, <Order: Order object (14)>, <Order: Order object (15)>, <Order: Order object (16)>, <Order: Order object (17)>, <Order: Order object (18)>, <Order: Order object (19)>, <Order: Order object (20)>, '...(remaining elements truncated)...']>"
      ]
     },
     "execution_count": 2,
     "metadata": {},
     "output_type": "execute_result"
    }
   ],
   "source": [
    "Order.objects.all()"
   ]
  },
  {
   "cell_type": "code",
   "execution_count": 3,
   "metadata": {},
   "outputs": [
    {
     "name": "stdout",
     "output_type": "stream",
     "text": [
      "ORDER ID: 22 , DATE: 2024-05-01 ,\n",
      "ORDER ID: 23 , DATE: 2024-05-01 ,\n",
      "ORDER ID: 24 , DATE: 2024-05-01 ,\n",
      "ORDER ID: 25 , DATE: 2024-05-02 ,\n",
      "ORDER ID: 26 , DATE: 2024-05-02 ,\n",
      "ORDER ID: 27 , DATE: 2024-05-02 ,\n",
      "ORDER ID: 28 , DATE: 2024-05-03 ,\n",
      "ORDER ID: 29 , DATE: 2024-05-03 ,\n",
      "ORDER ID: 30 , DATE: 2024-05-03 ,\n",
      "ORDER ID: 31 , DATE: 2024-05-04 ,\n"
     ]
    }
   ],
   "source": [
    "from shop.models import Order\n",
    "\n",
    "for order in Order.objects.filter(order_date__month=5)[:10]:\n",
    "    print('ORDER ID:', order.id, ', DATE:',  order.order_date, \",\" , end='')\n",
    "    print()"
   ]
  },
  {
   "cell_type": "markdown",
   "metadata": {},
   "source": [
    "1.2 query หาข้อมูล `Order` ที่มีการซื้อสินค้าชื่อ \"Dog Bed\" (ดูที่รายการ `OrderItem`) และแสดงผลดังตัวอย่าง (0.25 คะแนน)\n",
    "\n",
    "```txt\n",
    "# ตัวอย่างบางส่วน\n",
    "ORDER ID: 8, ORDER_DATE: 2024-04-26, CUSTOMER: Suwichada Jarastham, REMARK: None\n",
    "```"
   ]
  },
  {
   "cell_type": "code",
   "execution_count": 13,
   "metadata": {},
   "outputs": [
    {
     "name": "stdout",
     "output_type": "stream",
     "text": [
      "ORDER ID: 8, ORDER_DATE: 2024-04-26, CUSTOMER: Suwichada Jarastham, REMARK: None\n",
      "ORDER ID: 16, ORDER_DATE: 2024-04-29, CUSTOMER: Trinnapon Yinggnam, REMARK: None\n",
      "ORDER ID: 23, ORDER_DATE: 2024-05-01, CUSTOMER: Warit Pititat, REMARK: None\n",
      "ORDER ID: 36, ORDER_DATE: 2024-05-05, CUSTOMER: Manit Senapan, REMARK: None\n",
      "ORDER ID: 63, ORDER_DATE: 2024-05-14, CUSTOMER: Dejwit Tangjareonsakul, REMARK: None\n",
      "ORDER ID: 79, ORDER_DATE: 2024-05-20, CUSTOMER: Techathorn Sriwanwilai, REMARK: None\n",
      "ORDER ID: 151, ORDER_DATE: 2024-06-13, CUSTOMER: Thitirat Sukkesorn, REMARK: None\n"
     ]
    }
   ],
   "source": [
    "from shop.models import Order, OrderItem\n",
    "\n",
    "f = Order.objects.filter(orderitem__product__name__contains=\"Dog Bed\")\n",
    "# join table เพราะจะหาคำตามนี้\n",
    "\n",
    "for i in f:\n",
    "    print(f\"ORDER ID: {i.id}, ORDER_DATE: {i.order_date}, CUSTOMER: {i.customer.first_name} {i.customer.last_name}, REMARK: {i.remark}\")\n",
    "    # เข้าถึงตาราง customer ได้เลยแบบไม่ต้อง join"
   ]
  },
  {
   "cell_type": "markdown",
   "metadata": {},
   "source": [
    "1.3 query หาข้อมูล `Product` ที่มีราคาสินค้าตั้งแต่ `5000.00` ขึ้นไป และอยู่ในหมวดหมู่ `Information Technology` และแสดงผลดังตัวอย่าง (0.25 คะแนน)\n",
    "\n",
    "```txt\n",
    "# ตัวอย่างบางส่วน \n",
    "PRODUCT ID: 1, NAME: Smartphone, PRICE: 5900.00\n",
    "```"
   ]
  },
  {
   "cell_type": "code",
   "execution_count": 19,
   "metadata": {},
   "outputs": [
    {
     "name": "stdout",
     "output_type": "stream",
     "text": [
      "PRODUCT ID: 1, NAME: Smartphone, PRICE: 5900.00\n",
      "PRODUCT ID: 2, NAME: Laptop, PRICE: 25999.00\n",
      "PRODUCT ID: 3, NAME: Smart TV, PRICE: 8900.00\n",
      "PRODUCT ID: 5, NAME: Tablet, PRICE: 12900.00\n",
      "PRODUCT ID: 7, NAME: Digital Camera, PRICE: 32000.00\n",
      "PRODUCT ID: 11, NAME: Refrigerator, PRICE: 9000.00\n",
      "PRODUCT ID: 14, NAME: Air Conditioner, PRICE: 18900.00\n",
      "PRODUCT ID: 31, NAME: Sofa, PRICE: 7000.00\n",
      "PRODUCT ID: 54, NAME: Automatic Pet Feeder, PRICE: 7900.00\n",
      "PRODUCT ID: 61, NAME: Diamond Stud Earrings, PRICE: 320000.00\n",
      "PRODUCT ID: 62, NAME: Silver Charm Bracelet, PRICE: 70000.00\n",
      "PRODUCT ID: 63, NAME: Gold Pendant Necklace, PRICE: 59000.00\n",
      "PRODUCT ID: 64, NAME: Gemstone Ring, PRICE: 9000.00\n",
      "PRODUCT ID: 65, NAME: Rose Gold Hoop Earrings, PRICE: 1200000.00\n"
     ]
    }
   ],
   "source": [
    "from shop.models import Product\n",
    "\n",
    "\n",
    "\n",
    "for product in Product.objects.filter(price__gte=5000, categories__name = 'Information Technology'):\n",
    "    print(f\"PRODUCT ID: {product.id}, NAME: {product.name}, PRICE: {product.price}\")"
   ]
  },
  {
   "cell_type": "markdown",
   "metadata": {},
   "source": [
    "1.4 query หาข้อมูล `Product` ที่มีราคาสินค้าน้อยกว่า `200.00` และมากกว่า `100.00` และแสดงผลดังตัวอย่าง (0.25 คะแนน)\n",
    "\n",
    "```txt\n",
    "PRODUCT ID: 28, NAME: Women's Sweater, PRICE: 190.00\n",
    "PRODUCT ID: 66, NAME: Salvage the Bones, PRICE: 129.00\n",
    "```"
   ]
  },
  {
   "cell_type": "code",
   "execution_count": 46,
   "metadata": {},
   "outputs": [
    {
     "name": "stdout",
     "output_type": "stream",
     "text": [
      "PRODUCT ID: 28, NAME: Women's Sweater, PRICE: 190.00\n",
      "PRODUCT ID: 66, NAME: Salvage the Bones, PRICE: 129.00\n"
     ]
    }
   ],
   "source": [
    "from shop.models import Product\n",
    "\n",
    "for product in Product.objects.filter(price__lt=200, price__gt=100):\n",
    "    print(f\"PRODUCT ID: {product.id}, NAME: {product.name}, PRICE: {product.price}\")"
   ]
  },
  {
   "cell_type": "markdown",
   "metadata": {},
   "source": [
    "1.5 query หาข้อมูล `Product` ในหมวดหมู่ `Electronics` หรือ `Toys and Games` ที่มีราคามากกว่าหรือเท่ากับ 10,000 หรือมีจำนวนคงเหลือน้อยกว่าหรือเท่ากับ 10 และแสดงผลดังตัวอย่าง (0.25 คะแนน)\n",
    "\n",
    "```txt\n",
    "# ตัวอย่างบางส่วน \n",
    "PRODUCT ID: 2,\tPRICE: 25999.00, REMAINING: 19, CATEGORIES: Information Technology, Electronics\n",
    "PRODUCT ID: 3,\tPRICE: 8900.00, REMAINING: 10, CATEGORIES: Information Technology, Electronics\n",
    "PRODUCT ID: 6,\tPRICE: 5000.00, REMAINING: 10, CATEGORIES: Information Technology, Electronics\n",
    "PRODUCT ID: 7,\tPRICE: 32000.00, REMAINING: 4, CATEGORIES: Information Technology, Electronics\n",
    "PRODUCT ID: 8,\tPRICE: 990.00, REMAINING: 0, CATEGORIES: Information Technology, Electronics\n",
    "PRODUCT ID: 8,\tPRICE: 990.00, REMAINING: 0, CATEGORIES: Information Technology, Electronics\n",
    "```"
   ]
  },
  {
   "cell_type": "code",
   "execution_count": 92,
   "metadata": {},
   "outputs": [
    {
     "name": "stdout",
     "output_type": "stream",
     "text": [
      "PRODUCT ID: 2, PRICE: 25999.00, REMAINING: 19, CATEGORIES: Information Technology, Electronics, \n",
      "PRODUCT ID: 3, PRICE: 8900.00, REMAINING: 10, CATEGORIES: Information Technology, Electronics, \n",
      "PRODUCT ID: 5, PRICE: 12900.00, REMAINING: 22, CATEGORIES: Information Technology, Electronics, \n",
      "PRODUCT ID: 6, PRICE: 5000.00, REMAINING: 10, CATEGORIES: Information Technology, Electronics, \n",
      "PRODUCT ID: 7, PRICE: 32000.00, REMAINING: 4, CATEGORIES: Information Technology, Electronics, \n",
      "PRODUCT ID: 8, PRICE: 990.00, REMAINING: 0, CATEGORIES: Information Technology, Electronics, \n",
      "PRODUCT ID: 14, PRICE: 18900.00, REMAINING: 30, CATEGORIES: Electronics, \n",
      "PRODUCT ID: 50, PRICE: 500.00, REMAINING: 10, CATEGORIES: Toys and Games, \n"
     ]
    }
   ],
   "source": [
    "products = Product.objects.filter(Q(categories__name='Electronics')|Q(categories__name='Toys and Games'), Q(price__gte=10000) | Q(remaining_amount__lte=10))\n",
    "\n",
    "for product in products:\n",
    "    print(f\"PRODUCT ID: {product.id}, PRICE: {product.price}, REMAINING: {product.remaining_amount}, CATEGORIES: \", end='')\n",
    "    for i in product.categories.all():\n",
    "        print(f\"{i.name}, \", end='')\n",
    "    print()\n"
   ]
  },
  {
   "cell_type": "markdown",
   "metadata": {},
   "source": [
    "1.6 query หาข้อมูล Product โดยมีเงื่อนไขดังนี้: (0.25 คะแนน)\n",
    "\n",
    "- ชื่อสินค้ามีคำว่า `Smart` หรือ `Electric`\n",
    "- รายละเอียดสินค้า ไม่มีคำว่า `compact` หรือ `portable`\n",
    "- รายละเอียดสินค้ามีชื่อสินค้า\n",
    "\n",
    "และแสดงผลดังตัวอย่าง\n",
    "```txt\n",
    "PRODUCT ID: 1, NAME: Smartphone, DESCRIPTION: A sleek and powerful smartphone with advanced features. \n",
    "PRODUCT ID: 10, NAME: Smartwatch, DESCRIPTION: A stylish smartwatch with health monitoring and notification features. \n",
    "PRODUCT ID: 16, NAME: Electric Kettle, DESCRIPTION: Fast-boiling electric kettle with auto shut-off feature. \n",
    "PRODUCT ID: 18, NAME: Electric Fan, DESCRIPTION: Oscillating electric fan for cooling rooms. \n",
    "```"
   ]
  },
  {
   "cell_type": "code",
   "execution_count": 121,
   "metadata": {},
   "outputs": [
    {
     "name": "stdout",
     "output_type": "stream",
     "text": [
      "PRODUCT ID: 1, NAME: Smartphone, DESCRIPTION: A sleek and powerful smartphone with advanced features.\n",
      "PRODUCT ID: 10, NAME: Smartwatch, DESCRIPTION: A stylish smartwatch with health monitoring and notification features.\n",
      "PRODUCT ID: 16, NAME: Electric Kettle, DESCRIPTION: Fast-boiling electric kettle with auto shut-off feature.\n",
      "PRODUCT ID: 18, NAME: Electric Fan, DESCRIPTION: Oscillating electric fan for cooling rooms.\n"
     ]
    }
   ],
   "source": [
    "from django.db.models import F\n",
    "\n",
    "\n",
    "a = Product.objects.filter(\n",
    "    (Q(name__contains='Electric') | Q(name__contains='Smart')), Q(description__icontains=F(\"name\")\n",
    "    )).exclude(Q(description__contains='compact') | Q(description__contains='portable'))\n",
    "\n",
    "for product in a:\n",
    "    print(f\"PRODUCT ID: {product.id}, NAME: {product.name}, DESCRIPTION: {product.description}\")\n"
   ]
  },
  {
   "cell_type": "markdown",
   "metadata": {},
   "source": [
    "### 2. เพิ่ม ลบ แก้ไข สินค้า"
   ]
  },
  {
   "cell_type": "markdown",
   "metadata": {},
   "source": [
    "2.1 ให้เพิ่มสินค้าใหม่จำนวน 3 รายการ (0.1 คะแนน)\n",
    "\n",
    "```txt\n",
    "สินค้าที่ 1\n",
    "ชื่อ: Philosopher's Stone (1997)\n",
    "หมวดหมู่สินค้า: Books and Media\n",
    "จำนวนคงเหลือ: 20\n",
    "รายละเอียดซ: By J. K. Rowling.\n",
    "ราคา: 790\n",
    "\n",
    "สินค้าที่ 2\n",
    "ชื่อ: Me Before You\n",
    "หมวดหมู่สินค้า: Books and Media\n",
    "จำนวนคงเหลือ: 40\n",
    "รายละเอียดซ: A romance novel written by Jojo\n",
    "ราคา: 390\n",
    "\n",
    "สินค้าที่ 3\n",
    "ชื่อ: Notebook HP Pavilion Silver\n",
    "หมวดหมู่สินค้า: Information Technology และ Electronics\n",
    "จำนวนคงเหลือ: 10\n",
    "รายละเอียดซ: Display Screen. 16.0\n",
    "ราคา: 20000\n",
    "```"
   ]
  },
  {
   "cell_type": "code",
   "execution_count": 123,
   "metadata": {},
   "outputs": [],
   "source": [
    "p1 = Product.objects.create(name=\"Philosopher's Stone (1997)\", remaining_amount=20, description='By J. K. Rowling.', price=790)\n",
    "pc1 = ProductCategory.objects.create(name='Books and Media')\n",
    "\n",
    "p1.categories.add(pc1)"
   ]
  },
  {
   "cell_type": "code",
   "execution_count": 127,
   "metadata": {},
   "outputs": [],
   "source": [
    "p2 = Product.objects.create(name=\"Me Before You\", remaining_amount=40, description='A romance novel written by Jojo', price=390)\n",
    "pc2 = ProductCategory.objects.get(name='Books and Media')\n",
    "\n",
    "p2.categories.add(pc2)"
   ]
  },
  {
   "cell_type": "code",
   "execution_count": 128,
   "metadata": {},
   "outputs": [],
   "source": [
    "p3 = Product.objects.create(name=\"Notebook HP Pavilion Silver\", remaining_amount=20, description='Display Screen. 16.0', price=20000)\n",
    "pc3 = ProductCategory.objects.get(name='Information Technology')\n",
    "pc4 = ProductCategory.objects.get(name='Electronics')\n",
    "\n",
    "\n",
    "p3.categories.add(pc3)\n",
    "p3.categories.add(pc4)"
   ]
  },
  {
   "cell_type": "markdown",
   "metadata": {},
   "source": [
    "2.2 แก้ไขชื่อสินค้า จาก `Philosopher's Stone (1997)` เป็น `Half-Blood Prince (2005)` (0.1 คะแนน)"
   ]
  },
  {
   "cell_type": "code",
   "execution_count": 132,
   "metadata": {},
   "outputs": [],
   "source": [
    "p1 = Product.objects.filter(name=\"Philosopher's Stone (1997)\")[0]\n",
    "p1.name = \"Half-Blood Prince (2005)\"\n",
    "p1.save()"
   ]
  },
  {
   "cell_type": "markdown",
   "metadata": {},
   "source": [
    "2.3 แก้ไขชื่อหมวดหมู่สินค้า จาก `Books and Media` เป็น `Books` (0.1 คะแนน)"
   ]
  },
  {
   "cell_type": "code",
   "execution_count": 139,
   "metadata": {},
   "outputs": [
    {
     "ename": "DoesNotExist",
     "evalue": "ProductCategory matching query does not exist.",
     "output_type": "error",
     "traceback": [
      "\u001b[1;31m---------------------------------------------------------------------------\u001b[0m",
      "\u001b[1;31mDoesNotExist\u001b[0m                              Traceback (most recent call last)",
      "Cell \u001b[1;32mIn[139], line 1\u001b[0m\n\u001b[1;32m----> 1\u001b[0m pc \u001b[38;5;241m=\u001b[39m \u001b[43mProductCategory\u001b[49m\u001b[38;5;241;43m.\u001b[39;49m\u001b[43mobjects\u001b[49m\u001b[38;5;241;43m.\u001b[39;49m\u001b[43mget\u001b[49m\u001b[43m(\u001b[49m\u001b[43mname\u001b[49m\u001b[38;5;241;43m=\u001b[39;49m\u001b[38;5;124;43m\"\u001b[39;49m\u001b[38;5;124;43mBooks and Media\u001b[39;49m\u001b[38;5;124;43m\"\u001b[39;49m\u001b[43m)\u001b[49m\n\u001b[0;32m      2\u001b[0m pc\u001b[38;5;241m.\u001b[39mname \u001b[38;5;241m=\u001b[39m \u001b[38;5;124m\"\u001b[39m\u001b[38;5;124mBooks\u001b[39m\u001b[38;5;124m\"\u001b[39m\n\u001b[0;32m      3\u001b[0m pc\u001b[38;5;241m.\u001b[39msave()\n",
      "File \u001b[1;32m~\\Desktop\\week04\\myvenv\\Lib\\site-packages\\django\\db\\models\\manager.py:87\u001b[0m, in \u001b[0;36mBaseManager._get_queryset_methods.<locals>.create_method.<locals>.manager_method\u001b[1;34m(self, *args, **kwargs)\u001b[0m\n\u001b[0;32m     85\u001b[0m \u001b[38;5;129m@wraps\u001b[39m(method)\n\u001b[0;32m     86\u001b[0m \u001b[38;5;28;01mdef\u001b[39;00m\u001b[38;5;250m \u001b[39m\u001b[38;5;21mmanager_method\u001b[39m(\u001b[38;5;28mself\u001b[39m, \u001b[38;5;241m*\u001b[39margs, \u001b[38;5;241m*\u001b[39m\u001b[38;5;241m*\u001b[39mkwargs):\n\u001b[1;32m---> 87\u001b[0m     \u001b[38;5;28;01mreturn\u001b[39;00m \u001b[38;5;28;43mgetattr\u001b[39;49m\u001b[43m(\u001b[49m\u001b[38;5;28;43mself\u001b[39;49m\u001b[38;5;241;43m.\u001b[39;49m\u001b[43mget_queryset\u001b[49m\u001b[43m(\u001b[49m\u001b[43m)\u001b[49m\u001b[43m,\u001b[49m\u001b[43m \u001b[49m\u001b[43mname\u001b[49m\u001b[43m)\u001b[49m\u001b[43m(\u001b[49m\u001b[38;5;241;43m*\u001b[39;49m\u001b[43margs\u001b[49m\u001b[43m,\u001b[49m\u001b[43m \u001b[49m\u001b[38;5;241;43m*\u001b[39;49m\u001b[38;5;241;43m*\u001b[39;49m\u001b[43mkwargs\u001b[49m\u001b[43m)\u001b[49m\n",
      "File \u001b[1;32m~\\Desktop\\week04\\myvenv\\Lib\\site-packages\\django\\db\\models\\query.py:633\u001b[0m, in \u001b[0;36mQuerySet.get\u001b[1;34m(self, *args, **kwargs)\u001b[0m\n\u001b[0;32m    631\u001b[0m     \u001b[38;5;28;01mreturn\u001b[39;00m clone\u001b[38;5;241m.\u001b[39m_result_cache[\u001b[38;5;241m0\u001b[39m]\n\u001b[0;32m    632\u001b[0m \u001b[38;5;28;01mif\u001b[39;00m \u001b[38;5;129;01mnot\u001b[39;00m num:\n\u001b[1;32m--> 633\u001b[0m     \u001b[38;5;28;01mraise\u001b[39;00m \u001b[38;5;28mself\u001b[39m\u001b[38;5;241m.\u001b[39mmodel\u001b[38;5;241m.\u001b[39mDoesNotExist(\n\u001b[0;32m    634\u001b[0m         \u001b[38;5;124m\"\u001b[39m\u001b[38;5;132;01m%s\u001b[39;00m\u001b[38;5;124m matching query does not exist.\u001b[39m\u001b[38;5;124m\"\u001b[39m \u001b[38;5;241m%\u001b[39m \u001b[38;5;28mself\u001b[39m\u001b[38;5;241m.\u001b[39mmodel\u001b[38;5;241m.\u001b[39m_meta\u001b[38;5;241m.\u001b[39mobject_name\n\u001b[0;32m    635\u001b[0m     )\n\u001b[0;32m    636\u001b[0m \u001b[38;5;28;01mraise\u001b[39;00m \u001b[38;5;28mself\u001b[39m\u001b[38;5;241m.\u001b[39mmodel\u001b[38;5;241m.\u001b[39mMultipleObjectsReturned(\n\u001b[0;32m    637\u001b[0m     \u001b[38;5;124m\"\u001b[39m\u001b[38;5;124mget() returned more than one \u001b[39m\u001b[38;5;132;01m%s\u001b[39;00m\u001b[38;5;124m -- it returned \u001b[39m\u001b[38;5;132;01m%s\u001b[39;00m\u001b[38;5;124m!\u001b[39m\u001b[38;5;124m\"\u001b[39m\n\u001b[0;32m    638\u001b[0m     \u001b[38;5;241m%\u001b[39m (\n\u001b[1;32m   (...)\u001b[0m\n\u001b[0;32m    641\u001b[0m     )\n\u001b[0;32m    642\u001b[0m )\n",
      "\u001b[1;31mDoesNotExist\u001b[0m: ProductCategory matching query does not exist."
     ]
    }
   ],
   "source": [
    "pc = ProductCategory.objects.get(name=\"Books and Media\")\n",
    "pc.name = \"Books\"\n",
    "pc.save()"
   ]
  },
  {
   "cell_type": "markdown",
   "metadata": {},
   "source": [
    "2.4 ลบสินค้าทุกตัวที่อยู่ในหมวดหมู่ `Books` (0.2 คะแนน)"
   ]
  },
  {
   "cell_type": "code",
   "execution_count": 140,
   "metadata": {},
   "outputs": [
    {
     "data": {
      "text/plain": [
       "(6, {'shop.Product_categories': 3, 'shop.Product': 3})"
      ]
     },
     "execution_count": 140,
     "metadata": {},
     "output_type": "execute_result"
    }
   ],
   "source": [
    "Product.objects.filter(categories__name='Books').delete()"
   ]
  }
 ],
 "metadata": {
  "kernelspec": {
   "display_name": "Django Shell-Plus",
   "language": "python",
   "name": "django_extensions"
  },
  "language_info": {
   "codemirror_mode": {
    "name": "ipython",
    "version": 3
   },
   "file_extension": ".py",
   "mimetype": "text/x-python",
   "name": "python",
   "nbconvert_exporter": "python",
   "pygments_lexer": "ipython3",
   "version": "3.13.0"
  }
 },
 "nbformat": 4,
 "nbformat_minor": 2
}
