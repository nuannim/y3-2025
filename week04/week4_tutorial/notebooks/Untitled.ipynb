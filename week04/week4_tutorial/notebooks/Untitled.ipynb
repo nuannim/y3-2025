{
 "cells": [
  {
   "cell_type": "code",
   "execution_count": 4,
   "id": "b4627bc9",
   "metadata": {},
   "outputs": [],
   "source": [
    "import os\n",
    "os.environ[\"DJANGO_ALLOW_ASYNC_UNSAFE\"] = \"true\""
   ]
  },
  {
   "cell_type": "code",
   "execution_count": 5,
   "id": "4f7227a0",
   "metadata": {},
   "outputs": [
    {
     "name": "stdout",
     "output_type": "stream",
     "text": [
      "New name\n",
      "test\n",
      "Cheddar Talk\n"
     ]
    }
   ],
   "source": [
    "from blogs.models import Blog\n",
    "\n",
    "for blog in Blog.objects.all():\n",
    "    print(blog)"
   ]
  },
  {
   "cell_type": "code",
   "execution_count": 6,
   "id": "20da211c",
   "metadata": {},
   "outputs": [
    {
     "data": {
      "text/plain": [
       "<QuerySet [<Entry: First entry>]>"
      ]
     },
     "execution_count": 6,
     "metadata": {},
     "output_type": "execute_result"
    }
   ],
   "source": [
    "Entry.objects.all()"
   ]
  },
  {
   "cell_type": "code",
   "execution_count": 7,
   "id": "ae786657",
   "metadata": {},
   "outputs": [],
   "source": [
    "blog = Blog(name=\"My blog\", tagline=\"Blogging is easy\")\n",
    "blog.save()  # blog.pk == 1\n",
    "\n",
    "blog.pk = None\n",
    "blog._state.adding = True\n",
    "blog.save()  # blog.pk == 2"
   ]
  },
  {
   "cell_type": "code",
   "execution_count": null,
   "id": "bfee6bec",
   "metadata": {},
   "outputs": [],
   "source": []
  }
 ],
 "metadata": {
  "kernelspec": {
   "display_name": "Django Shell-Plus",
   "language": "python",
   "name": "django_extensions"
  },
  "language_info": {
   "codemirror_mode": {
    "name": "ipython",
    "version": 3
   },
   "file_extension": ".py",
   "mimetype": "text/x-python",
   "name": "python",
   "nbconvert_exporter": "python",
   "pygments_lexer": "ipython3",
   "version": "3.13.0"
  }
 },
 "nbformat": 4,
 "nbformat_minor": 5
}
